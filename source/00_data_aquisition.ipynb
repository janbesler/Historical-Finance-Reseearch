{
 "cells": [
  {
   "cell_type": "markdown",
   "metadata": {},
   "source": [
    "# Libraries"
   ]
  },
  {
   "cell_type": "code",
   "execution_count": 27,
   "metadata": {},
   "outputs": [],
   "source": [
    "# standard\n",
    "import pandas as pd\n",
    "import numpy as np\n",
    "from tqdm import tqdm\n",
    "from datetime import datetime, date\n",
    "from collections import defaultdict\n",
    "import json\n",
    "\n",
    "# finance\n",
    "\"\"\"\n",
    "# uncomment for first time installation\n",
    "!git clone https://github.com/joqueka/bf4py.git\n",
    "import sys\n",
    "sys.path.append(\"bf4py\")\n",
    "\"\"\"\n",
    "import bf4py\n",
    "\n",
    "# efficiency\n",
    "from concurrent.futures import ThreadPoolExecutor\n",
    "from tqdm import tqdm\n",
    "import time"
   ]
  },
  {
   "cell_type": "markdown",
   "metadata": {},
   "source": [
    "# Data Import"
   ]
  },
  {
   "cell_type": "markdown",
   "metadata": {},
   "source": [
    "### get list of all German listed companies\n",
    "\n",
    "https://topforeignstocks.com/stock-lists/the-list-of-listed-companies-in-germany/"
   ]
  },
  {
   "cell_type": "code",
   "execution_count": 8,
   "metadata": {},
   "outputs": [],
   "source": [
    "traded_companies_path = '../data/Complete-List-of-Listed-Companies-on-Germany-Frankfurt-Stock-Exchange-Jan-2021.xlsx'\n",
    "\n",
    "traded_companies = pd.DataFrame()\n",
    "\n",
    "# List the sheet names you want to read\n",
    "sheet_names_to_read = [1, 2, 3]  # 0-based index, or you can use sheet names as strings\n",
    "\n",
    "# Loop through each sheet to read and combine data\n",
    "for sheet_name in sheet_names_to_read:\n",
    "    # Read the sheet into a DataFrame, skipping the first 7 rows\n",
    "    df = pd.read_excel(traded_companies_path, sheet_name=sheet_name, skiprows=range(0, 7), usecols=range(0,6))\n",
    "    \n",
    "    # Concatenate the newly read DataFrame to the combined DataFrame\n",
    "    traded_companies = pd.concat([traded_companies, df], ignore_index=True, axis=0)\n",
    "\n",
    "# only keep german companies\n",
    "traded_companies = traded_companies[traded_companies['Country'] == 'Germany']\n",
    "traded_companies.head()\n",
    "\n",
    "# list for next step\n",
    "traded_companies_list = traded_companies['ISIN']\n",
    "\n",
    "del df, sheet_name, sheet_names_to_read, traded_companies_path"
   ]
  },
  {
   "cell_type": "markdown",
   "metadata": {},
   "source": [
    "### get historical data"
   ]
  },
  {
   "cell_type": "code",
   "execution_count": 9,
   "metadata": {},
   "outputs": [
    {
     "name": "stderr",
     "output_type": "stream",
     "text": [
      "Getting Share Prices: 100%|██████████| 449/449 [06:36<00:00,  1.13it/s]\n"
     ]
    }
   ],
   "source": [
    "# Initialize a defaultdict to store the results\n",
    "final_dict = defaultdict(dict)\n",
    "\n",
    "# Create an instance of the General class\n",
    "general_instance = bf4py.general.General()\n",
    "\n",
    "# Initialize a list to store ISINs that are not found\n",
    "not_found_isins = []\n",
    "\n",
    "# Loop through the list of ISINs\n",
    "for ISIN in tqdm(traded_companies_list, desc='Getting Share Prices'):\n",
    "    try:\n",
    "        history = general_instance.eod_data(\n",
    "                        isin=ISIN,\n",
    "                        min_date=datetime.strptime('2010-01-01', '%Y-%m-%d').date(),\n",
    "                        max_date=date.today()\n",
    "                        )\n",
    "        \n",
    "        # Populate the dictionary\n",
    "        for record in history:\n",
    "            final_dict[record['date']][ISIN] = record['close']\n",
    "    except Exception as e:\n",
    "        not_found_isins.append(ISIN)\n",
    "\n",
    "# Convert the dictionary to a DataFrame\n",
    "final_df = pd.DataFrame.from_dict(final_dict, orient='index')\n",
    "final_df.index = pd.to_datetime(final_df.index)\n",
    "final_df.sort_index(inplace=True)\n",
    "\n",
    "del final_dict, general_instance, history"
   ]
  },
  {
   "cell_type": "markdown",
   "metadata": {},
   "source": [
    "### get market cap"
   ]
  },
  {
   "cell_type": "code",
   "execution_count": 38,
   "metadata": {},
   "outputs": [
    {
     "name": "stderr",
     "output_type": "stream",
     "text": [
      "Calculating quarterly Market Cap: 100%|██████████| 449/449 [09:33<00:00,  1.28s/it]"
     ]
    },
    {
     "name": "stdout",
     "output_type": "stream",
     "text": [
      "Number of Problematic ISINs: 118\n"
     ]
    },
    {
     "name": "stderr",
     "output_type": "stream",
     "text": [
      "\n"
     ]
    }
   ],
   "source": [
    "# Initialize a dictionary to store the quarterly market cap and number of shares\n",
    "quarterly_market_cap_dict = {}\n",
    "\n",
    "# Create an instance of the Equities class\n",
    "equity_instance = bf4py.equities.Equities()\n",
    "\n",
    "# Initialize a list to store problematic ISINs\n",
    "problematic_isins = []\n",
    "\n",
    "# Loop through each column (ISIN) in the final_df\n",
    "for ISIN in tqdm(traded_companies_list[:50], desc='Calculating quarterly Market Cap'):\n",
    "    try:\n",
    "        # Validate ISIN format (basic validation)\n",
    "        if len(ISIN) != 12:\n",
    "            print(f\"Skipping invalid ISIN format: {ISIN}\")\n",
    "            continue\n",
    "\n",
    "        # Resample to get the average share price per quarter\n",
    "        avg_price_per_quarter = final_df[ISIN].resample('Q').mean()\n",
    "        \n",
    "        # Check for NaN\n",
    "        if pd.isna(avg_price_per_quarter).all():\n",
    "            avg_price_per_quarter = 1\n",
    "\n",
    "        # Get the number of shares using the key_data method\n",
    "        num_shares = equity_instance.key_data(isin=ISIN).get('numberOfShares', 1)  # Default to 1 if not found\n",
    "        \n",
    "        # Calculate the quarterly market cap\n",
    "        quarterly_market_cap = avg_price_per_quarter * num_shares\n",
    "\n",
    "        # Check for problematic calculations\n",
    "        if quarterly_market_cap.equals(num_shares):\n",
    "            quarterly_market_cap = 1\n",
    "\n",
    "        # Convert dates to 'QX_YYYY' format\n",
    "        quarters = avg_price_per_quarter.index.to_period(\"Q\").strftime('Q%q_%Y')\n",
    "\n",
    "        # Store in the dictionary\n",
    "        quarterly_market_cap_dict[ISIN] = {\n",
    "            'quarterly_market_cap': quarterly_market_cap.tolist(),\n",
    "            'quarters': quarters.tolist()\n",
    "        }\n",
    "        time.sleep(1)\n",
    "    except json.JSONDecodeError:\n",
    "        problematic_isins.append(ISIN)\n",
    "        time.sleep(1)\n",
    "    except Exception as e:\n",
    "        problematic_isins.append(ISIN)\n",
    "        time.sleep(1)\n",
    "\n",
    "# Output problematic ISINs\n",
    "print(\"Number of Problematic ISINs:\", len(problematic_isins))\n",
    "\n",
    "# Initialize an empty DataFrame to store the final result\n",
    "market_cap_df = pd.DataFrame()\n",
    "\n",
    "# Loop through each ISIN and its data in the dictionary\n",
    "for ISIN, data in quarterly_market_cap_dict.items():\n",
    "    # Create a temporary DataFrame\n",
    "    temp_df = pd.DataFrame({\n",
    "        'Quarter': data['quarters'],\n",
    "        'Quarterly_Market_Cap': data['quarterly_market_cap']\n",
    "    })\n",
    "    # Set the 'Quarter' as the index\n",
    "    temp_df.set_index('Quarter', inplace=True)\n",
    "    # Rename the 'Quarterly_Market_Cap' column to the ISIN\n",
    "    temp_df.rename(columns={'Quarterly_Market_Cap': ISIN}, inplace=True)\n",
    "    # Merge this temporary DataFrame into the final DataFrame\n",
    "    if market_cap_df.empty:\n",
    "        market_cap_df = temp_df\n",
    "    else:\n",
    "        market_cap_df = pd.merge(market_cap_df, temp_df, left_index=True, right_index=True, how='outer')"
   ]
  },
  {
   "cell_type": "code",
   "execution_count": 45,
   "metadata": {},
   "outputs": [],
   "source": [
    "# Create a mapping dictionary from the company_info_df\n",
    "isin_to_symbol = dict(zip(traded_companies['ISIN'], traded_companies['Trading Symbol']))\n",
    "\n",
    "# Rename the columns in the final_df\n",
    "final_df.rename(columns=isin_to_symbol, inplace=True)\n",
    "market_cap_df.rename(columns=isin_to_symbol, inplace=True)\n",
    "\n",
    "# save file\n",
    "final_df.to_csv('../data/closing_prices.csv')\n",
    "market_cap_df.to_csv('../data/market_cap.csv')"
   ]
  }
 ],
 "metadata": {
  "kernelspec": {
   "display_name": "Python 3",
   "language": "python",
   "name": "python3"
  },
  "language_info": {
   "codemirror_mode": {
    "name": "ipython",
    "version": 3
   },
   "file_extension": ".py",
   "mimetype": "text/x-python",
   "name": "python",
   "nbconvert_exporter": "python",
   "pygments_lexer": "ipython3",
   "version": "3.11.5"
  }
 },
 "nbformat": 4,
 "nbformat_minor": 2
}
