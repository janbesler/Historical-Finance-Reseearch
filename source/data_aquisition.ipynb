{
 "cells": [
  {
   "cell_type": "markdown",
   "metadata": {},
   "source": [
    "# Libraries"
   ]
  },
  {
   "cell_type": "code",
   "execution_count": 55,
   "metadata": {},
   "outputs": [
    {
     "name": "stdout",
     "output_type": "stream",
     "text": [
      "Cloning into 'bf4py'...\n",
      "remote: Enumerating objects: 76, done.\u001b[K\n",
      "remote: Counting objects: 100% (76/76), done.\u001b[K\n",
      "remote: Compressing objects: 100% (49/49), done.\u001b[K\n",
      "remote: Total 76 (delta 39), reused 60 (delta 27), pack-reused 0\u001b[K\n",
      "Receiving objects: 100% (76/76), 25.28 KiB | 1.05 MiB/s, done.\n",
      "Resolving deltas: 100% (39/39), done.\n"
     ]
    }
   ],
   "source": [
    "# standard\n",
    "import pandas as pd\n",
    "import numpy as np\n",
    "from tqdm import tqdm\n",
    "\n",
    "# finance\n",
    "import yfinance as yf\n",
    "!git clone https://github.com/joqueka/bf4py.git\n",
    "import sys\n",
    "sys.path.append(\"bf4py\")\n",
    "from bf4py import BF4Py\n",
    "\n",
    "# efficiency\n",
    "from concurrent.futures import ThreadPoolExecutor"
   ]
  },
  {
   "cell_type": "markdown",
   "metadata": {},
   "source": [
    "# Data Import"
   ]
  },
  {
   "cell_type": "markdown",
   "metadata": {},
   "source": [
    "### get list of all German listed companies\n",
    "\n",
    "https://topforeignstocks.com/stock-lists/the-list-of-listed-companies-in-germany/"
   ]
  },
  {
   "cell_type": "code",
   "execution_count": 26,
   "metadata": {},
   "outputs": [
    {
     "data": {
      "text/html": [
       "<div>\n",
       "<style scoped>\n",
       "    .dataframe tbody tr th:only-of-type {\n",
       "        vertical-align: middle;\n",
       "    }\n",
       "\n",
       "    .dataframe tbody tr th {\n",
       "        vertical-align: top;\n",
       "    }\n",
       "\n",
       "    .dataframe thead th {\n",
       "        text-align: right;\n",
       "    }\n",
       "</style>\n",
       "<table border=\"1\" class=\"dataframe\">\n",
       "  <thead>\n",
       "    <tr style=\"text-align: right;\">\n",
       "      <th></th>\n",
       "      <th>ISIN</th>\n",
       "      <th>Trading Symbol</th>\n",
       "      <th>Company</th>\n",
       "      <th>Sector</th>\n",
       "      <th>Subsector</th>\n",
       "      <th>Country</th>\n",
       "    </tr>\n",
       "  </thead>\n",
       "  <tbody>\n",
       "    <tr>\n",
       "      <th>0</th>\n",
       "      <td>DE0005545503</td>\n",
       "      <td>DRI</td>\n",
       "      <td>1+1 DRILLISCH AG O.N.</td>\n",
       "      <td>Telecommunication</td>\n",
       "      <td>Wireless Communication</td>\n",
       "      <td>Germany</td>\n",
       "    </tr>\n",
       "    <tr>\n",
       "      <th>1</th>\n",
       "      <td>DE0005118806</td>\n",
       "      <td>TGT</td>\n",
       "      <td>11 88 0 SOLUTIONS AG</td>\n",
       "      <td>Telecommunication</td>\n",
       "      <td>Telecommunication Services</td>\n",
       "      <td>Germany</td>\n",
       "    </tr>\n",
       "    <tr>\n",
       "      <th>2</th>\n",
       "      <td>DE0005167902</td>\n",
       "      <td>UUU</td>\n",
       "      <td>3U HOLDING AG</td>\n",
       "      <td>Industrial</td>\n",
       "      <td>Industrial Products &amp; Services</td>\n",
       "      <td>Germany</td>\n",
       "    </tr>\n",
       "    <tr>\n",
       "      <th>3</th>\n",
       "      <td>DE000A2YN801</td>\n",
       "      <td>4BSB</td>\n",
       "      <td>4BASEBIO AG  NA O.N.</td>\n",
       "      <td>Pharma &amp; Healthcare</td>\n",
       "      <td>Biotechnology</td>\n",
       "      <td>Germany</td>\n",
       "    </tr>\n",
       "    <tr>\n",
       "      <th>4</th>\n",
       "      <td>DE000A14KL72</td>\n",
       "      <td>VSC</td>\n",
       "      <td>4SC AG</td>\n",
       "      <td>Pharma &amp; Healthcare</td>\n",
       "      <td>Biotechnology</td>\n",
       "      <td>Germany</td>\n",
       "    </tr>\n",
       "  </tbody>\n",
       "</table>\n",
       "</div>"
      ],
      "text/plain": [
       "           ISIN Trading Symbol                Company               Sector  \\\n",
       "0  DE0005545503            DRI  1+1 DRILLISCH AG O.N.    Telecommunication   \n",
       "1  DE0005118806            TGT   11 88 0 SOLUTIONS AG    Telecommunication   \n",
       "2  DE0005167902            UUU          3U HOLDING AG           Industrial   \n",
       "3  DE000A2YN801           4BSB   4BASEBIO AG  NA O.N.  Pharma & Healthcare   \n",
       "4  DE000A14KL72            VSC                 4SC AG  Pharma & Healthcare   \n",
       "\n",
       "                        Subsector  Country  \n",
       "0          Wireless Communication  Germany  \n",
       "1      Telecommunication Services  Germany  \n",
       "2  Industrial Products & Services  Germany  \n",
       "3                   Biotechnology  Germany  \n",
       "4                   Biotechnology  Germany  "
      ]
     },
     "execution_count": 26,
     "metadata": {},
     "output_type": "execute_result"
    }
   ],
   "source": [
    "traded_companies_path = '../data/Complete-List-of-Listed-Companies-on-Germany-Frankfurt-Stock-Exchange-Jan-2021.xlsx'\n",
    "\n",
    "traded_companies = pd.DataFrame()\n",
    "\n",
    "# List the sheet names you want to read\n",
    "sheet_names_to_read = [1, 2, 3]  # 0-based index, or you can use sheet names as strings\n",
    "\n",
    "# Loop through each sheet to read and combine data\n",
    "for sheet_name in sheet_names_to_read:\n",
    "    # Read the sheet into a DataFrame, skipping the first 7 rows\n",
    "    df = pd.read_excel(traded_companies_path, sheet_name=sheet_name, skiprows=range(0, 7), usecols=range(0,6))\n",
    "    \n",
    "    # Concatenate the newly read DataFrame to the combined DataFrame\n",
    "    traded_companies = pd.concat([traded_companies, df], ignore_index=True, axis=0)\n",
    "\n",
    "# only keep german companies\n",
    "traded_companies = traded_companies[traded_companies['Country'] == 'Germany']\n",
    "\n",
    "traded_companies.head()\n"
   ]
  },
  {
   "cell_type": "markdown",
   "metadata": {},
   "source": [
    "### get historical data"
   ]
  },
  {
   "cell_type": "code",
   "execution_count": 52,
   "metadata": {},
   "outputs": [
    {
     "name": "stdout",
     "output_type": "stream",
     "text": [
      "[************          24%%                      ]  108 of 449 completed"
     ]
    },
    {
     "name": "stderr",
     "output_type": "stream",
     "text": [
      "Failed to get ticker 'TIMA' reason: HTTPSConnectionPool(host='query2.finance.yahoo.com', port=443): Read timed out. (read timeout=10)\n",
      "Failed to get ticker 'BEZ' reason: HTTPSConnectionPool(host='query2.finance.yahoo.com', port=443): Read timed out. (read timeout=10)\n",
      "Failed to get ticker 'DAM' reason: HTTPSConnectionPool(host='query2.finance.yahoo.com', port=443): Read timed out. (read timeout=10)\n"
     ]
    },
    {
     "name": "stdout",
     "output_type": "stream",
     "text": [
      "[************          24%%                      ]  109 of 449 completed"
     ]
    },
    {
     "name": "stderr",
     "output_type": "stream",
     "text": [
      "Failed to get ticker 'IFA' reason: HTTPSConnectionPool(host='query2.finance.yahoo.com', port=443): Read timed out. (read timeout=10)\n"
     ]
    },
    {
     "name": "stdout",
     "output_type": "stream",
     "text": [
      "[************          26%%                      ]  116 of 449 completed"
     ]
    },
    {
     "name": "stderr",
     "output_type": "stream",
     "text": [
      "Failed to get ticker 'M3V' reason: HTTPSConnectionPool(host='query2.finance.yahoo.com', port=443): Max retries exceeded with url: /v8/finance/chart/M3V?range=1d&interval=1d (Caused by NewConnectionError('<urllib3.connection.HTTPSConnection object at 0x7ff2d833d710>: Failed to establish a new connection: [Errno 101] Network is unreachable'))\n"
     ]
    },
    {
     "name": "stdout",
     "output_type": "stream",
     "text": [
      "[************          26%%                      ]  118 of 449 completed"
     ]
    },
    {
     "name": "stderr",
     "output_type": "stream",
     "text": [
      "Failed to get ticker 'SZG' reason: HTTPSConnectionPool(host='query2.finance.yahoo.com', port=443): Max retries exceeded with url: /v8/finance/chart/SZG?range=1d&interval=1d (Caused by NewConnectionError('<urllib3.connection.HTTPSConnection object at 0x7ff2d8af8310>: Failed to establish a new connection: [Errno 101] Network is unreachable'))\n"
     ]
    },
    {
     "name": "stdout",
     "output_type": "stream",
     "text": [
      "[*************         27%%                      ]  120 of 449 completed"
     ]
    },
    {
     "name": "stderr",
     "output_type": "stream",
     "text": [
      "Failed to get ticker 'WAF' reason: HTTPSConnectionPool(host='query2.finance.yahoo.com', port=443): Max retries exceeded with url: /v8/finance/chart/WAF?range=1d&interval=1d (Caused by NewConnectionError('<urllib3.connection.HTTPSConnection object at 0x7ff2d8097690>: Failed to establish a new connection: [Errno 101] Network is unreachable'))\n",
      "Failed to get ticker 'VBX' reason: HTTPSConnectionPool(host='query2.finance.yahoo.com', port=443): Max retries exceeded with url: /v8/finance/chart/VBX?range=1d&interval=1d (Caused by NewConnectionError('<urllib3.connection.HTTPSConnection object at 0x7ff2d7f48b50>: Failed to establish a new connection: [Errno 101] Network is unreachable'))\n",
      "Failed to get ticker 'D6H' reason: HTTPSConnectionPool(host='query2.finance.yahoo.com', port=443): Max retries exceeded with url: /v8/finance/chart/D6H?range=1d&interval=1d (Caused by NewConnectionError('<urllib3.connection.HTTPSConnection object at 0x7ff2d65e35d0>: Failed to establish a new connection: [Errno 101] Network is unreachable'))\n",
      "Failed to get ticker 'ZAL' reason: HTTPSConnectionPool(host='query2.finance.yahoo.com', port=443): Max retries exceeded with url: /v8/finance/chart/ZAL?range=1d&interval=1d (Caused by NewConnectionError('<urllib3.connection.HTTPSConnection object at 0x7ff2d75422d0>: Failed to establish a new connection: [Errno 101] Network is unreachable'))\n",
      "Failed to get ticker 'JEN' reason: HTTPSConnectionPool(host='query2.finance.yahoo.com', port=443): Max retries exceeded with url: /v8/finance/chart/JEN?range=1d&interval=1d (Caused by NewConnectionError('<urllib3.connection.HTTPSConnection object at 0x7ff2d7a74850>: Failed to establish a new connection: [Errno 101] Network is unreachable'))\n"
     ]
    },
    {
     "ename": "KeyboardInterrupt",
     "evalue": "",
     "output_type": "error",
     "traceback": [
      "\u001b[0;31m---------------------------------------------------------------------------\u001b[0m",
      "\u001b[0;31mKeyboardInterrupt\u001b[0m                         Traceback (most recent call last)",
      "\u001b[1;32m/home/jan/Documents/Baten/Historical-Finance-Reseearch/source/data_aquisition.ipynb Cell 7\u001b[0m line \u001b[0;36m7\n\u001b[1;32m      <a href='vscode-notebook-cell:/home/jan/Documents/Baten/Historical-Finance-Reseearch/source/data_aquisition.ipynb#X14sZmlsZQ%3D%3D?line=3'>4</a>\u001b[0m traded_companies_list \u001b[39m=\u001b[39m traded_companies[\u001b[39m'\u001b[39m\u001b[39mTrading Symbol\u001b[39m\u001b[39m'\u001b[39m]\u001b[39m.\u001b[39mastype(\u001b[39mstr\u001b[39m)\u001b[39m.\u001b[39mtolist()\n\u001b[1;32m      <a href='vscode-notebook-cell:/home/jan/Documents/Baten/Historical-Finance-Reseearch/source/data_aquisition.ipynb#X14sZmlsZQ%3D%3D?line=5'>6</a>\u001b[0m \u001b[39m# Download the data\u001b[39;00m\n\u001b[0;32m----> <a href='vscode-notebook-cell:/home/jan/Documents/Baten/Historical-Finance-Reseearch/source/data_aquisition.ipynb#X14sZmlsZQ%3D%3D?line=6'>7</a>\u001b[0m stock_prices \u001b[39m=\u001b[39m yf\u001b[39m.\u001b[39;49mdownload(traded_companies_list, group_by\u001b[39m=\u001b[39;49m\u001b[39m'\u001b[39;49m\u001b[39mcolumn\u001b[39;49m\u001b[39m'\u001b[39;49m, period\u001b[39m=\u001b[39;49m\u001b[39m'\u001b[39;49m\u001b[39m1mo\u001b[39;49m\u001b[39m'\u001b[39;49m)\n\u001b[1;32m      <a href='vscode-notebook-cell:/home/jan/Documents/Baten/Historical-Finance-Reseearch/source/data_aquisition.ipynb#X14sZmlsZQ%3D%3D?line=8'>9</a>\u001b[0m \u001b[39m# Drop all but the 'Close' columns\u001b[39;00m\n\u001b[1;32m     <a href='vscode-notebook-cell:/home/jan/Documents/Baten/Historical-Finance-Reseearch/source/data_aquisition.ipynb#X14sZmlsZQ%3D%3D?line=9'>10</a>\u001b[0m stock_prices \u001b[39m=\u001b[39m stock_prices\u001b[39m.\u001b[39mxs(\u001b[39m'\u001b[39m\u001b[39mClose\u001b[39m\u001b[39m'\u001b[39m, axis\u001b[39m=\u001b[39m\u001b[39m1\u001b[39m, level\u001b[39m=\u001b[39m\u001b[39m0\u001b[39m)\n",
      "File \u001b[0;32m~/.var/app/com.vscodium.codium/data/python/lib/python3.11/site-packages/yfinance/utils.py:114\u001b[0m, in \u001b[0;36mlog_indent_decorator.<locals>.wrapper\u001b[0;34m(*args, **kwargs)\u001b[0m\n\u001b[1;32m    111\u001b[0m logger\u001b[39m.\u001b[39mdebug(\u001b[39mf\u001b[39m\u001b[39m'\u001b[39m\u001b[39mEntering \u001b[39m\u001b[39m{\u001b[39;00mfunc\u001b[39m.\u001b[39m\u001b[39m__name__\u001b[39m\u001b[39m}\u001b[39;00m\u001b[39m()\u001b[39m\u001b[39m'\u001b[39m)\n\u001b[1;32m    113\u001b[0m \u001b[39mwith\u001b[39;00m IndentationContext():\n\u001b[0;32m--> 114\u001b[0m     result \u001b[39m=\u001b[39m func(\u001b[39m*\u001b[39;49margs, \u001b[39m*\u001b[39;49m\u001b[39m*\u001b[39;49mkwargs)\n\u001b[1;32m    116\u001b[0m logger\u001b[39m.\u001b[39mdebug(\u001b[39mf\u001b[39m\u001b[39m'\u001b[39m\u001b[39mExiting \u001b[39m\u001b[39m{\u001b[39;00mfunc\u001b[39m.\u001b[39m\u001b[39m__name__\u001b[39m\u001b[39m}\u001b[39;00m\u001b[39m()\u001b[39m\u001b[39m'\u001b[39m)\n\u001b[1;32m    117\u001b[0m \u001b[39mreturn\u001b[39;00m result\n",
      "File \u001b[0;32m~/.var/app/com.vscodium.codium/data/python/lib/python3.11/site-packages/yfinance/multi.py:159\u001b[0m, in \u001b[0;36mdownload\u001b[0;34m(tickers, start, end, actions, threads, ignore_tz, group_by, auto_adjust, back_adjust, repair, keepna, progress, period, show_errors, interval, prepost, proxy, rounding, timeout, session)\u001b[0m\n\u001b[1;32m    152\u001b[0m         _download_one_threaded(ticker, period\u001b[39m=\u001b[39mperiod, interval\u001b[39m=\u001b[39minterval,\n\u001b[1;32m    153\u001b[0m                                start\u001b[39m=\u001b[39mstart, end\u001b[39m=\u001b[39mend, prepost\u001b[39m=\u001b[39mprepost,\n\u001b[1;32m    154\u001b[0m                                actions\u001b[39m=\u001b[39mactions, auto_adjust\u001b[39m=\u001b[39mauto_adjust,\n\u001b[1;32m    155\u001b[0m                                back_adjust\u001b[39m=\u001b[39mback_adjust, repair\u001b[39m=\u001b[39mrepair, keepna\u001b[39m=\u001b[39mkeepna,\n\u001b[1;32m    156\u001b[0m                                progress\u001b[39m=\u001b[39m(progress \u001b[39mand\u001b[39;00m i \u001b[39m>\u001b[39m \u001b[39m0\u001b[39m), proxy\u001b[39m=\u001b[39mproxy,\n\u001b[1;32m    157\u001b[0m                                rounding\u001b[39m=\u001b[39mrounding, timeout\u001b[39m=\u001b[39mtimeout, session\u001b[39m=\u001b[39msession)\n\u001b[1;32m    158\u001b[0m     \u001b[39mwhile\u001b[39;00m \u001b[39mlen\u001b[39m(shared\u001b[39m.\u001b[39m_DFS) \u001b[39m<\u001b[39m \u001b[39mlen\u001b[39m(tickers):\n\u001b[0;32m--> 159\u001b[0m         _time\u001b[39m.\u001b[39msleep(\u001b[39m0.01\u001b[39m)\n\u001b[1;32m    160\u001b[0m \u001b[39m# download synchronously\u001b[39;00m\n\u001b[1;32m    161\u001b[0m \u001b[39melse\u001b[39;00m:\n\u001b[1;32m    162\u001b[0m     \u001b[39mfor\u001b[39;00m i, ticker \u001b[39min\u001b[39;00m \u001b[39menumerate\u001b[39m(tickers):\n",
      "\u001b[0;31mKeyboardInterrupt\u001b[0m: "
     ]
    },
    {
     "name": "stdout",
     "output_type": "stream",
     "text": [
      "[*************         27%%                      ]  121 of 449 completed"
     ]
    }
   ],
   "source": [
    "import yfinance as yf\n",
    "\n",
    "# Convert the Series to a list\n",
    "traded_companies_list = traded_companies['Trading Symbol'].astype(str).tolist()\n",
    "\n",
    "# Download the data\n",
    "stock_prices = yf.download(traded_companies_list, group_by='column', period='1mo')\n",
    "\n",
    "# Drop all but the 'Close' columns\n",
    "stock_prices = stock_prices.xs('Close', axis=1, level=0).dropna(axis=1)"
   ]
  },
  {
   "cell_type": "code",
   "execution_count": 50,
   "metadata": {},
   "outputs": [],
   "source": []
  },
  {
   "cell_type": "code",
   "execution_count": null,
   "metadata": {},
   "outputs": [
    {
     "data": {
      "text/html": [
       "<div>\n",
       "<style scoped>\n",
       "    .dataframe tbody tr th:only-of-type {\n",
       "        vertical-align: middle;\n",
       "    }\n",
       "\n",
       "    .dataframe tbody tr th {\n",
       "        vertical-align: top;\n",
       "    }\n",
       "\n",
       "    .dataframe thead th {\n",
       "        text-align: right;\n",
       "    }\n",
       "</style>\n",
       "<table border=\"1\" class=\"dataframe\">\n",
       "  <thead>\n",
       "    <tr style=\"text-align: right;\">\n",
       "      <th></th>\n",
       "      <th>02P</th>\n",
       "      <th>1COV</th>\n",
       "      <th>2GB</th>\n",
       "      <th>2HRA</th>\n",
       "      <th>333</th>\n",
       "      <th>4BSB</th>\n",
       "      <th>4DS</th>\n",
       "      <th>5UH</th>\n",
       "      <th>8S9</th>\n",
       "      <th>8TRA</th>\n",
       "      <th>...</th>\n",
       "      <th>WUG</th>\n",
       "      <th>WUG3</th>\n",
       "      <th>WUW</th>\n",
       "      <th>WWG</th>\n",
       "      <th>YMO</th>\n",
       "      <th>YOC</th>\n",
       "      <th>YSN</th>\n",
       "      <th>ZAL</th>\n",
       "      <th>ZIL2</th>\n",
       "      <th>ZO1</th>\n",
       "    </tr>\n",
       "    <tr>\n",
       "      <th>Date</th>\n",
       "      <th></th>\n",
       "      <th></th>\n",
       "      <th></th>\n",
       "      <th></th>\n",
       "      <th></th>\n",
       "      <th></th>\n",
       "      <th></th>\n",
       "      <th></th>\n",
       "      <th></th>\n",
       "      <th></th>\n",
       "      <th></th>\n",
       "      <th></th>\n",
       "      <th></th>\n",
       "      <th></th>\n",
       "      <th></th>\n",
       "      <th></th>\n",
       "      <th></th>\n",
       "      <th></th>\n",
       "      <th></th>\n",
       "      <th></th>\n",
       "      <th></th>\n",
       "    </tr>\n",
       "  </thead>\n",
       "  <tbody>\n",
       "  </tbody>\n",
       "</table>\n",
       "<p>0 rows × 449 columns</p>\n",
       "</div>"
      ],
      "text/plain": [
       "Empty DataFrame\n",
       "Columns: [02P, 1COV, 2GB, 2HRA, 333, 4BSB, 4DS, 5UH, 8S9, 8TRA, 99SC, A1OS, A4Y, A6T, A7A, A8A, AAA, AAD, AAG, AAH, AAQ1, ABA, ACT, ACWN, ACX, ADD, ADL, ADN1, ADS, ADV, AEIN, AFX, AIXA, ALG, ALV, AM3D, AMA1, AOF, AOX, ARL, ART, ASL, AVES, B4B, B4B3, B5A, B7E, B8F, BAS, BAYN, BC8, BDT, BEI, BEZ, BIJ, BIO, BIO3, BKHT, BKS3, BMW, BMW3, BNN, BNR, BNT1, BOSS, BSL, BSS, BST, BTBB, BVB, BYW, BYW6, C0M, C1V, CAP, CBK, CC1, CE2, CEA, CEC, CEC1, CLIQ, CNWK, COK, CON, COP, CPX, CSH, CSQ, CWC, CYR, D6H, DAI, DAM, DAR, DB1, DBAN, DBD, DBK, DEQ, ...]\n",
       "Index: []\n",
       "\n",
       "[0 rows x 449 columns]"
      ]
     },
     "execution_count": 53,
     "metadata": {},
     "output_type": "execute_result"
    },
    {
     "name": "stdout",
     "output_type": "stream",
     "text": [
      "[**************        30%%                      ]  133 of 449 completed"
     ]
    },
    {
     "name": "stderr",
     "output_type": "stream",
     "text": [
      "Failed to get ticker 'OBS' reason: HTTPSConnectionPool(host='query2.finance.yahoo.com', port=443): Read timed out. (read timeout=10)\n"
     ]
    },
    {
     "name": "stdout",
     "output_type": "stream",
     "text": [
      "[**************        30%%                      ]  134 of 449 completed"
     ]
    },
    {
     "name": "stderr",
     "output_type": "stream",
     "text": [
      "Failed to get ticker 'CSQ' reason: HTTPSConnectionPool(host='query2.finance.yahoo.com', port=443): Read timed out. (read timeout=10)\n",
      "Failed to get ticker '4DS' reason: HTTPSConnectionPool(host='query2.finance.yahoo.com', port=443): Read timed out. (read timeout=10)\n"
     ]
    },
    {
     "name": "stdout",
     "output_type": "stream",
     "text": [
      "[*********************100%%**********************]  447 of 449 completed"
     ]
    },
    {
     "name": "stderr",
     "output_type": "stream",
     "text": [
      "Failed to get ticker 'PNE3' reason: HTTPSConnectionPool(host='query2.finance.yahoo.com', port=443): Read timed out. (read timeout=10)\n"
     ]
    },
    {
     "name": "stdout",
     "output_type": "stream",
     "text": [
      "[*********************100%%**********************]  448 of 449 completed"
     ]
    }
   ],
   "source": [
    "stock_prices.head()"
   ]
  },
  {
   "cell_type": "markdown",
   "metadata": {},
   "source": [
    "# Test Area"
   ]
  },
  {
   "cell_type": "code",
   "execution_count": 37,
   "metadata": {},
   "outputs": [
    {
     "data": {
      "text/plain": [
       "449"
      ]
     },
     "execution_count": 37,
     "metadata": {},
     "output_type": "execute_result"
    }
   ],
   "source": [
    "len(failed_downloads)"
   ]
  },
  {
   "cell_type": "code",
   "execution_count": 48,
   "metadata": {},
   "outputs": [
    {
     "name": "stdout",
     "output_type": "stream",
     "text": [
      "[*********************100%%**********************]  2 of 2 completed"
     ]
    },
    {
     "name": "stderr",
     "output_type": "stream",
     "text": [
      "\n",
      "2 Failed downloads:\n",
      "['ML2', '5UH']: Exception('%ticker%: No data found, symbol may be delisted')\n"
     ]
    },
    {
     "name": "stdout",
     "output_type": "stream",
     "text": [
      "\n"
     ]
    },
    {
     "data": {
      "text/html": [
       "<div>\n",
       "<style scoped>\n",
       "    .dataframe tbody tr th:only-of-type {\n",
       "        vertical-align: middle;\n",
       "    }\n",
       "\n",
       "    .dataframe tbody tr th {\n",
       "        vertical-align: top;\n",
       "    }\n",
       "\n",
       "    .dataframe thead tr th {\n",
       "        text-align: left;\n",
       "    }\n",
       "\n",
       "    .dataframe thead tr:last-of-type th {\n",
       "        text-align: right;\n",
       "    }\n",
       "</style>\n",
       "<table border=\"1\" class=\"dataframe\">\n",
       "  <thead>\n",
       "    <tr>\n",
       "      <th></th>\n",
       "      <th colspan=\"2\" halign=\"left\">Adj Close</th>\n",
       "      <th colspan=\"2\" halign=\"left\">Close</th>\n",
       "      <th colspan=\"2\" halign=\"left\">High</th>\n",
       "      <th colspan=\"2\" halign=\"left\">Low</th>\n",
       "      <th colspan=\"2\" halign=\"left\">Open</th>\n",
       "      <th colspan=\"2\" halign=\"left\">Volume</th>\n",
       "    </tr>\n",
       "    <tr>\n",
       "      <th></th>\n",
       "      <th>5UH</th>\n",
       "      <th>ML2</th>\n",
       "      <th>5UH</th>\n",
       "      <th>ML2</th>\n",
       "      <th>5UH</th>\n",
       "      <th>ML2</th>\n",
       "      <th>5UH</th>\n",
       "      <th>ML2</th>\n",
       "      <th>5UH</th>\n",
       "      <th>ML2</th>\n",
       "      <th>5UH</th>\n",
       "      <th>ML2</th>\n",
       "    </tr>\n",
       "    <tr>\n",
       "      <th>Date</th>\n",
       "      <th></th>\n",
       "      <th></th>\n",
       "      <th></th>\n",
       "      <th></th>\n",
       "      <th></th>\n",
       "      <th></th>\n",
       "      <th></th>\n",
       "      <th></th>\n",
       "      <th></th>\n",
       "      <th></th>\n",
       "      <th></th>\n",
       "      <th></th>\n",
       "    </tr>\n",
       "  </thead>\n",
       "  <tbody>\n",
       "  </tbody>\n",
       "</table>\n",
       "</div>"
      ],
      "text/plain": [
       "Empty DataFrame\n",
       "Columns: [(Adj Close, 5UH), (Adj Close, ML2), (Close, 5UH), (Close, ML2), (High, 5UH), (High, ML2), (Low, 5UH), (Low, ML2), (Open, 5UH), (Open, ML2), (Volume, 5UH), (Volume, ML2)]\n",
       "Index: []"
      ]
     },
     "execution_count": 48,
     "metadata": {},
     "output_type": "execute_result"
    }
   ],
   "source": [
    "yf.download(['5UH', 'ML2'], period = '1mo')"
   ]
  }
 ],
 "metadata": {
  "kernelspec": {
   "display_name": "Python 3",
   "language": "python",
   "name": "python3"
  },
  "language_info": {
   "codemirror_mode": {
    "name": "ipython",
    "version": 3
   },
   "file_extension": ".py",
   "mimetype": "text/x-python",
   "name": "python",
   "nbconvert_exporter": "python",
   "pygments_lexer": "ipython3",
   "version": "3.11.5"
  }
 },
 "nbformat": 4,
 "nbformat_minor": 2
}
