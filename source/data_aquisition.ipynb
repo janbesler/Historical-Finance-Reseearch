{
 "cells": [
  {
   "cell_type": "markdown",
   "metadata": {},
   "source": [
    "# Libraries"
   ]
  },
  {
   "cell_type": "code",
   "execution_count": 111,
   "metadata": {},
   "outputs": [],
   "source": [
    "# standard\n",
    "import pandas as pd\n",
    "import numpy as np\n",
    "from tqdm import tqdm\n",
    "from datetime import datetime, date\n",
    "from collections import defaultdict\n",
    "import json\n",
    "\n",
    "# finance\n",
    "import yfinance as yf\n",
    "\"\"\" \n",
    "# uncomment for first time installation\n",
    "!git clone https://github.com/joqueka/bf4py.git\n",
    "import sys\n",
    "sys.path.append(\"bf4py\")\n",
    "\"\"\"\n",
    "import bf4py\n",
    "\n",
    "# efficiency\n",
    "from concurrent.futures import ThreadPoolExecutor\n",
    "from tqdm import tqdm"
   ]
  },
  {
   "cell_type": "markdown",
   "metadata": {},
   "source": [
    "# Data Import"
   ]
  },
  {
   "cell_type": "markdown",
   "metadata": {},
   "source": [
    "### get list of all German listed companies\n",
    "\n",
    "https://topforeignstocks.com/stock-lists/the-list-of-listed-companies-in-germany/"
   ]
  },
  {
   "cell_type": "code",
   "execution_count": 112,
   "metadata": {},
   "outputs": [
    {
     "data": {
      "text/html": [
       "<div>\n",
       "<style scoped>\n",
       "    .dataframe tbody tr th:only-of-type {\n",
       "        vertical-align: middle;\n",
       "    }\n",
       "\n",
       "    .dataframe tbody tr th {\n",
       "        vertical-align: top;\n",
       "    }\n",
       "\n",
       "    .dataframe thead th {\n",
       "        text-align: right;\n",
       "    }\n",
       "</style>\n",
       "<table border=\"1\" class=\"dataframe\">\n",
       "  <thead>\n",
       "    <tr style=\"text-align: right;\">\n",
       "      <th></th>\n",
       "      <th>ISIN</th>\n",
       "      <th>Trading Symbol</th>\n",
       "      <th>Company</th>\n",
       "      <th>Sector</th>\n",
       "      <th>Subsector</th>\n",
       "      <th>Country</th>\n",
       "    </tr>\n",
       "  </thead>\n",
       "  <tbody>\n",
       "    <tr>\n",
       "      <th>0</th>\n",
       "      <td>DE0005545503</td>\n",
       "      <td>DRI</td>\n",
       "      <td>1+1 DRILLISCH AG O.N.</td>\n",
       "      <td>Telecommunication</td>\n",
       "      <td>Wireless Communication</td>\n",
       "      <td>Germany</td>\n",
       "    </tr>\n",
       "    <tr>\n",
       "      <th>1</th>\n",
       "      <td>DE0005118806</td>\n",
       "      <td>TGT</td>\n",
       "      <td>11 88 0 SOLUTIONS AG</td>\n",
       "      <td>Telecommunication</td>\n",
       "      <td>Telecommunication Services</td>\n",
       "      <td>Germany</td>\n",
       "    </tr>\n",
       "    <tr>\n",
       "      <th>2</th>\n",
       "      <td>DE0005167902</td>\n",
       "      <td>UUU</td>\n",
       "      <td>3U HOLDING AG</td>\n",
       "      <td>Industrial</td>\n",
       "      <td>Industrial Products &amp; Services</td>\n",
       "      <td>Germany</td>\n",
       "    </tr>\n",
       "    <tr>\n",
       "      <th>3</th>\n",
       "      <td>DE000A2YN801</td>\n",
       "      <td>4BSB</td>\n",
       "      <td>4BASEBIO AG  NA O.N.</td>\n",
       "      <td>Pharma &amp; Healthcare</td>\n",
       "      <td>Biotechnology</td>\n",
       "      <td>Germany</td>\n",
       "    </tr>\n",
       "    <tr>\n",
       "      <th>4</th>\n",
       "      <td>DE000A14KL72</td>\n",
       "      <td>VSC</td>\n",
       "      <td>4SC AG</td>\n",
       "      <td>Pharma &amp; Healthcare</td>\n",
       "      <td>Biotechnology</td>\n",
       "      <td>Germany</td>\n",
       "    </tr>\n",
       "  </tbody>\n",
       "</table>\n",
       "</div>"
      ],
      "text/plain": [
       "           ISIN Trading Symbol                Company               Sector  \\\n",
       "0  DE0005545503            DRI  1+1 DRILLISCH AG O.N.    Telecommunication   \n",
       "1  DE0005118806            TGT   11 88 0 SOLUTIONS AG    Telecommunication   \n",
       "2  DE0005167902            UUU          3U HOLDING AG           Industrial   \n",
       "3  DE000A2YN801           4BSB   4BASEBIO AG  NA O.N.  Pharma & Healthcare   \n",
       "4  DE000A14KL72            VSC                 4SC AG  Pharma & Healthcare   \n",
       "\n",
       "                        Subsector  Country  \n",
       "0          Wireless Communication  Germany  \n",
       "1      Telecommunication Services  Germany  \n",
       "2  Industrial Products & Services  Germany  \n",
       "3                   Biotechnology  Germany  \n",
       "4                   Biotechnology  Germany  "
      ]
     },
     "execution_count": 112,
     "metadata": {},
     "output_type": "execute_result"
    }
   ],
   "source": [
    "traded_companies_path = '../data/Complete-List-of-Listed-Companies-on-Germany-Frankfurt-Stock-Exchange-Jan-2021.xlsx'\n",
    "\n",
    "traded_companies = pd.DataFrame()\n",
    "\n",
    "# List the sheet names you want to read\n",
    "sheet_names_to_read = [1, 2, 3]  # 0-based index, or you can use sheet names as strings\n",
    "\n",
    "# Loop through each sheet to read and combine data\n",
    "for sheet_name in sheet_names_to_read:\n",
    "    # Read the sheet into a DataFrame, skipping the first 7 rows\n",
    "    df = pd.read_excel(traded_companies_path, sheet_name=sheet_name, skiprows=range(0, 7), usecols=range(0,6))\n",
    "    \n",
    "    # Concatenate the newly read DataFrame to the combined DataFrame\n",
    "    traded_companies = pd.concat([traded_companies, df], ignore_index=True, axis=0)\n",
    "\n",
    "# only keep german companies\n",
    "traded_companies = traded_companies[traded_companies['Country'] == 'Germany']\n",
    "\n",
    "traded_companies.head()\n"
   ]
  },
  {
   "cell_type": "markdown",
   "metadata": {},
   "source": [
    "### get historical data"
   ]
  },
  {
   "cell_type": "code",
   "execution_count": 114,
   "metadata": {},
   "outputs": [
    {
     "name": "stderr",
     "output_type": "stream",
     "text": [
      "Getting Share Prices ...: 100%|██████████| 449/449 [01:11<00:00,  6.25it/s]\n"
     ]
    }
   ],
   "source": [
    "# Initialize a defaultdict to store the results\n",
    "final_dict = defaultdict(dict)\n",
    "\n",
    "# Create an instance of the General class\n",
    "general_instance = bf4py.general.General()\n",
    "\n",
    "# Initialize a list to store ISINs that are not found\n",
    "not_found_isins = []\n",
    "\n",
    "# Loop through the list of ISINs\n",
    "for ISIN in tqdm(traded_companies_list, desc='Getting Share Prices'):\n",
    "    try:\n",
    "        history = general_instance.eod_data(\n",
    "                        isin=ISIN,\n",
    "                        min_date=datetime.strptime('2010-01-01', '%Y-%m-%d').date(),\n",
    "                        max_date=date.today()\n",
    "                        )\n",
    "        \n",
    "        # Populate the dictionary\n",
    "        for record in history:\n",
    "            final_dict[record['date']][ISIN] = record['close']\n",
    "    except Exception as e:\n",
    "        not_found_isins.append(ISIN)\n",
    "\n",
    "# Convert the dictionary to a DataFrame\n",
    "final_df = pd.DataFrame.from_dict(final_dict, orient='index')\n",
    "final_df.index = pd.to_datetime(final_df.index)\n",
    "final_df.sort_index(inplace=True)"
   ]
  },
  {
   "cell_type": "code",
   "execution_count": 137,
   "metadata": {},
   "outputs": [
    {
     "name": "stderr",
     "output_type": "stream",
     "text": [
      "Calculating quarterly Market Cap:  12%|█▏        | 41/331 [00:06<00:30,  9.38it/s]"
     ]
    },
    {
     "name": "stdout",
     "output_type": "stream",
     "text": [
      "JSONDecodeError for ISIN: DE0005419105\n",
      "JSONDecodeError for ISIN: DE000A2G9M17\n",
      "JSONDecodeError for ISIN: DE0005313704\n",
      "JSONDecodeError for ISIN: DE0007257503\n"
     ]
    },
    {
     "name": "stderr",
     "output_type": "stream",
     "text": [
      "Calculating quarterly Market Cap:  14%|█▎        | 45/331 [00:06<00:22, 12.97it/s]"
     ]
    },
    {
     "name": "stdout",
     "output_type": "stream",
     "text": [
      "JSONDecodeError for ISIN: DE0005407100\n",
      "JSONDecodeError for ISIN: DE0005403901\n",
      "JSONDecodeError for ISIN: DE000CBK1001\n",
      "JSONDecodeError for ISIN: DE000A288904\n"
     ]
    },
    {
     "name": "stderr",
     "output_type": "stream",
     "text": [
      "Calculating quarterly Market Cap:  14%|█▍        | 47/331 [00:06<00:20, 14.19it/s]"
     ]
    },
    {
     "name": "stdout",
     "output_type": "stream",
     "text": [
      "JSONDecodeError for ISIN: DE0005439004\n",
      "JSONDecodeError for ISIN: DE0006062144\n",
      "JSONDecodeError for ISIN: DE000A2LQUA5\n",
      "JSONDecodeError for ISIN: DE000A0LAUP1\n"
     ]
    },
    {
     "name": "stderr",
     "output_type": "stream",
     "text": [
      "Calculating quarterly Market Cap:  16%|█▌        | 52/331 [00:07<00:16, 16.47it/s]"
     ]
    },
    {
     "name": "stdout",
     "output_type": "stream",
     "text": [
      "JSONDecodeError for ISIN: DE0005470306\n",
      "JSONDecodeError for ISIN: DE0007100000\n",
      "JSONDecodeError for ISIN: DE0005498901\n",
      "JSONDecodeError for ISIN: DE000A2E4K43\n"
     ]
    },
    {
     "name": "stderr",
     "output_type": "stream",
     "text": [
      "Calculating quarterly Market Cap:  16%|█▋        | 54/331 [00:07<00:16, 16.42it/s]"
     ]
    },
    {
     "name": "stdout",
     "output_type": "stream",
     "text": [
      "JSONDecodeError for ISIN: DE0005146807\n",
      "JSONDecodeError for ISIN: DE000A0XFSF0\n",
      "JSONDecodeError for ISIN: DE000A2GS5D8\n"
     ]
    },
    {
     "name": "stderr",
     "output_type": "stream",
     "text": [
      "Calculating quarterly Market Cap:  18%|█▊        | 61/331 [00:07<00:16, 16.37it/s]"
     ]
    },
    {
     "name": "stdout",
     "output_type": "stream",
     "text": [
      "JSONDecodeError for ISIN: DE0005810055\n",
      "JSONDecodeError for ISIN: DE0007480204\n",
      "JSONDecodeError for ISIN: DE0005552004\n",
      "JSONDecodeError for ISIN: DE000A0HN5C6\n"
     ]
    },
    {
     "name": "stderr",
     "output_type": "stream",
     "text": [
      "Calculating quarterly Market Cap:  20%|█▉        | 65/331 [00:08<00:15, 17.18it/s]"
     ]
    },
    {
     "name": "stdout",
     "output_type": "stream",
     "text": [
      "JSONDecodeError for ISIN: DE0006305006\n",
      "JSONDecodeError for ISIN: DE000A2NBVD5\n",
      "JSONDecodeError for ISIN: DE0005157101\n",
      "JSONDecodeError for ISIN: DE0005550602\n"
     ]
    },
    {
     "name": "stderr",
     "output_type": "stream",
     "text": [
      "Calculating quarterly Market Cap:  21%|██        | 69/331 [00:08<00:14, 17.82it/s]"
     ]
    },
    {
     "name": "stdout",
     "output_type": "stream",
     "text": [
      "JSONDecodeError for ISIN: DE0005550636\n",
      "JSONDecodeError for ISIN: DE000A1TNUT7\n",
      "JSONDecodeError for ISIN: DE000A14KRD3\n",
      "JSONDecodeError for ISIN: DE0008019001\n"
     ]
    },
    {
     "name": "stderr",
     "output_type": "stream",
     "text": [
      "Calculating quarterly Market Cap:  21%|██▏       | 71/331 [00:08<00:14, 17.90it/s]"
     ]
    },
    {
     "name": "stdout",
     "output_type": "stream",
     "text": [
      "JSONDecodeError for ISIN: DE0005557508\n",
      "JSONDecodeError for ISIN: DE0005565204\n",
      "JSONDecodeError for ISIN: DE000DWS1007\n",
      "JSONDecodeError for ISIN: DE000ENAG999\n"
     ]
    },
    {
     "name": "stderr",
     "output_type": "stream",
     "text": [
      "Calculating quarterly Market Cap:  23%|██▎       | 77/331 [00:08<00:13, 18.78it/s]"
     ]
    },
    {
     "name": "stdout",
     "output_type": "stream",
     "text": [
      "JSONDecodeError for ISIN: DE0005659700\n",
      "JSONDecodeError for ISIN: DE0005854343\n",
      "JSONDecodeError for ISIN: DE0005654933\n",
      "JSONDecodeError for ISIN: DE0005677108\n",
      "JSONDecodeError for ISIN: DE0007856023\n"
     ]
    },
    {
     "name": "stderr",
     "output_type": "stream",
     "text": [
      "Calculating quarterly Market Cap:  24%|██▍       | 81/331 [00:08<00:13, 18.43it/s]"
     ]
    },
    {
     "name": "stdout",
     "output_type": "stream",
     "text": [
      "JSONDecodeError for ISIN: DE000A11Q059\n",
      "JSONDecodeError for ISIN: DE0006095003\n",
      "JSONDecodeError for ISIN: DE000A1X3WX6\n",
      "JSONDecodeError for ISIN: DE000EVNK013\n"
     ]
    },
    {
     "name": "stderr",
     "output_type": "stream",
     "text": [
      "Calculating quarterly Market Cap:  26%|██▌       | 85/331 [00:09<00:14, 17.14it/s]"
     ]
    },
    {
     "name": "stdout",
     "output_type": "stream",
     "text": [
      "JSONDecodeError for ISIN: DE0005664809\n",
      "JSONDecodeError for ISIN: DE0005772206\n",
      "JSONDecodeError for ISIN: DE0007201907\n",
      "JSONDecodeError for ISIN: DE000FTG1111\n"
     ]
    },
    {
     "name": "stderr",
     "output_type": "stream",
     "text": [
      "Calculating quarterly Market Cap:  26%|██▋       | 87/331 [00:09<00:14, 17.04it/s]"
     ]
    },
    {
     "name": "stdout",
     "output_type": "stream",
     "text": [
      "JSONDecodeError for ISIN: DE0005774103\n"
     ]
    },
    {
     "name": "stderr",
     "output_type": "stream",
     "text": [
      "Calculating quarterly Market Cap:  27%|██▋       | 91/331 [00:10<00:45,  5.26it/s]"
     ]
    },
    {
     "name": "stdout",
     "output_type": "stream",
     "text": [
      "JSONDecodeError for ISIN: DE0005773303\n",
      "JSONDecodeError for ISIN: DE000A0Z2ZZ5\n",
      "JSONDecodeError for ISIN: DE0005785802\n",
      "JSONDecodeError for ISIN: DE0005785604\n"
     ]
    },
    {
     "name": "stderr",
     "output_type": "stream",
     "text": [
      "Calculating quarterly Market Cap:  29%|██▊       | 95/331 [00:11<00:28,  8.29it/s]"
     ]
    },
    {
     "name": "stdout",
     "output_type": "stream",
     "text": [
      "JSONDecodeError for ISIN: DE000A0JJTG7\n",
      "JSONDecodeError for ISIN: DE0006602006\n",
      "JSONDecodeError for ISIN: DE0005495626\n",
      "JSONDecodeError for ISIN: DE000A0LD6E6\n"
     ]
    },
    {
     "name": "stderr",
     "output_type": "stream",
     "text": [
      "Calculating quarterly Market Cap:  30%|██▉       | 99/331 [00:11<00:23,  9.93it/s]"
     ]
    },
    {
     "name": "stdout",
     "output_type": "stream",
     "text": [
      "JSONDecodeError for ISIN: DE0005800601\n",
      "JSONDecodeError for ISIN: DE000A161N30\n",
      "JSONDecodeError for ISIN: DE000A2E4T77\n"
     ]
    },
    {
     "name": "stderr",
     "output_type": "stream",
     "text": [
      "Calculating quarterly Market Cap:  31%|███       | 103/331 [00:11<00:21, 10.76it/s]"
     ]
    },
    {
     "name": "stdout",
     "output_type": "stream",
     "text": [
      "JSONDecodeError for ISIN: DE000A0S8488\n",
      "JSONDecodeError for ISIN: DE0008402215\n",
      "JSONDecodeError for ISIN: DE000HLAG475\n",
      "JSONDecodeError for ISIN: DE0006042708\n"
     ]
    },
    {
     "name": "stderr",
     "output_type": "stream",
     "text": [
      "Calculating quarterly Market Cap:  32%|███▏      | 107/331 [00:11<00:16, 13.41it/s]"
     ]
    },
    {
     "name": "stdout",
     "output_type": "stream",
     "text": [
      "JSONDecodeError for ISIN: DE000A11QVV0\n",
      "JSONDecodeError for ISIN: DE0006047004\n",
      "JSONDecodeError for ISIN: DE0007314007\n",
      "JSONDecodeError for ISIN: DE000A13SX22\n"
     ]
    },
    {
     "name": "stderr",
     "output_type": "stream",
     "text": [
      "Calculating quarterly Market Cap:  34%|███▎      | 111/331 [00:12<00:14, 15.06it/s]"
     ]
    },
    {
     "name": "stdout",
     "output_type": "stream",
     "text": [
      "JSONDecodeError for ISIN: DE000A161408\n",
      "JSONDecodeError for ISIN: DE0006048408\n",
      "JSONDecodeError for ISIN: DE0006048432\n",
      "JSONDecodeError for ISIN: DE000HAG0005\n"
     ]
    },
    {
     "name": "stderr",
     "output_type": "stream",
     "text": [
      "Calculating quarterly Market Cap:  35%|███▍      | 115/331 [00:12<00:13, 16.42it/s]"
     ]
    },
    {
     "name": "stdout",
     "output_type": "stream",
     "text": [
      "JSONDecodeError for ISIN: DE0006070006\n",
      "JSONDecodeError for ISIN: DE0006083405\n",
      "JSONDecodeError for ISIN: DE000A1PHFF7\n",
      "JSONDecodeError for ISIN: DE0005493365\n"
     ]
    },
    {
     "name": "stderr",
     "output_type": "stream",
     "text": [
      "Calculating quarterly Market Cap:  36%|███▌      | 119/331 [00:12<00:12, 17.27it/s]"
     ]
    },
    {
     "name": "stdout",
     "output_type": "stream",
     "text": [
      "JSONDecodeError for ISIN: DE0006200108\n",
      "JSONDecodeError for ISIN: DE0006231004\n",
      "JSONDecodeError for ISIN: DE0005759807\n",
      "JSONDecodeError for ISIN: DE000A2NBX80\n"
     ]
    },
    {
     "name": "stderr",
     "output_type": "stream",
     "text": [
      "Calculating quarterly Market Cap:  37%|███▋      | 123/331 [00:12<00:12, 16.81it/s]"
     ]
    },
    {
     "name": "stdout",
     "output_type": "stream",
     "text": [
      "JSONDecodeError for ISIN: DE000A254211\n",
      "JSONDecodeError for ISIN: DE0005874846\n",
      "JSONDecodeError for ISIN: DE0005859698\n",
      "JSONDecodeError for ISIN: DE0007448508\n"
     ]
    },
    {
     "name": "stderr",
     "output_type": "stream",
     "text": [
      "Calculating quarterly Market Cap:  39%|███▉      | 129/331 [00:13<00:14, 13.65it/s]"
     ]
    },
    {
     "name": "stdout",
     "output_type": "stream",
     "text": [
      "JSONDecodeError for ISIN: DE000JST4000\n",
      "JSONDecodeError for ISIN: DE0006219934\n",
      "JSONDecodeError for ISIN: DE000KSAG888\n",
      "JSONDecodeError for ISIN: DE0006208408\n"
     ]
    },
    {
     "name": "stderr",
     "output_type": "stream",
     "text": [
      "Calculating quarterly Market Cap:  40%|████      | 134/331 [00:13<00:11, 16.65it/s]"
     ]
    },
    {
     "name": "stdout",
     "output_type": "stream",
     "text": [
      "JSONDecodeError for ISIN: DE000KGX8881\n",
      "JSONDecodeError for ISIN: DE000KC01000\n",
      "JSONDecodeError for ISIN: DE000A2YN504\n",
      "JSONDecodeError for ISIN: DE000KBX1006\n",
      "JSONDecodeError for ISIN: DE0007193500\n"
     ]
    },
    {
     "name": "stderr",
     "output_type": "stream",
     "text": [
      "Calculating quarterly Market Cap:  41%|████▏     | 137/331 [00:13<00:10, 17.89it/s]"
     ]
    },
    {
     "name": "stdout",
     "output_type": "stream",
     "text": [
      "JSONDecodeError for ISIN: DE000A1A6V48\n",
      "JSONDecodeError for ISIN: DE0006335003\n",
      "JSONDecodeError for ISIN: DE0007074007\n",
      "JSONDecodeError for ISIN: DE0005470405\n"
     ]
    },
    {
     "name": "stderr",
     "output_type": "stream",
     "text": [
      "Calculating quarterly Market Cap:  43%|████▎     | 141/331 [00:14<00:10, 18.36it/s]"
     ]
    },
    {
     "name": "stdout",
     "output_type": "stream",
     "text": [
      "JSONDecodeError for ISIN: DE000LEG1110\n",
      "JSONDecodeError for ISIN: DE0006464506\n",
      "JSONDecodeError for ISIN: DE0006450000\n",
      "JSONDecodeError for ISIN: DE0005199905\n"
     ]
    },
    {
     "name": "stderr",
     "output_type": "stream",
     "text": [
      "Calculating quarterly Market Cap:  44%|████▍     | 145/331 [00:14<00:10, 17.29it/s]"
     ]
    },
    {
     "name": "stdout",
     "output_type": "stream",
     "text": [
      "JSONDecodeError for ISIN: DE0008232125\n",
      "JSONDecodeError for ISIN: DE000A0JQ5U3\n",
      "JSONDecodeError for ISIN: DE0005492938\n",
      "JSONDecodeError for ISIN: DE000A2DA588\n"
     ]
    },
    {
     "name": "stderr",
     "output_type": "stream",
     "text": [
      "Calculating quarterly Market Cap:  45%|████▌     | 149/331 [00:14<00:10, 17.27it/s]"
     ]
    },
    {
     "name": "stdout",
     "output_type": "stream",
     "text": [
      "JSONDecodeError for ISIN: DE000A0ETBQ4\n",
      "JSONDecodeError for ISIN: DE0006595101\n",
      "JSONDecodeError for ISIN: DE000A1X3W00\n",
      "JSONDecodeError for ISIN: DE000A1MMCC8\n"
     ]
    },
    {
     "name": "stderr",
     "output_type": "stream",
     "text": [
      "Calculating quarterly Market Cap:  46%|████▌     | 153/331 [00:14<00:10, 17.45it/s]"
     ]
    },
    {
     "name": "stdout",
     "output_type": "stream",
     "text": [
      "JSONDecodeError for ISIN: DE0006599905\n",
      "JSONDecodeError for ISIN: DE000BFB0019\n",
      "JSONDecodeError for ISIN: DE000BFB0027\n"
     ]
    },
    {
     "name": "stderr",
     "output_type": "stream",
     "text": [
      "Calculating quarterly Market Cap:  47%|████▋     | 157/331 [00:15<00:12, 14.39it/s]"
     ]
    },
    {
     "name": "stdout",
     "output_type": "stream",
     "text": [
      "JSONDecodeError for ISIN: DE0006632003\n",
      "JSONDecodeError for ISIN: DE000A0D9PT0\n",
      "JSONDecodeError for ISIN: DE0008430026\n",
      "JSONDecodeError for ISIN: DE000A0H52F5\n"
     ]
    },
    {
     "name": "stderr",
     "output_type": "stream",
     "text": [
      "Calculating quarterly Market Cap:  49%|████▉     | 162/331 [00:15<00:10, 16.57it/s]"
     ]
    },
    {
     "name": "stdout",
     "output_type": "stream",
     "text": [
      "JSONDecodeError for ISIN: DE000A3H2200\n",
      "JSONDecodeError for ISIN: DE0006452907\n",
      "JSONDecodeError for ISIN: DE000NWRK013\n",
      "JSONDecodeError for ISIN: DE0005220909\n",
      "JSONDecodeError for ISIN: DE000A0N4N52\n"
     ]
    },
    {
     "name": "stderr",
     "output_type": "stream",
     "text": [
      "Calculating quarterly Market Cap:  50%|█████     | 167/331 [00:15<00:09, 17.62it/s]"
     ]
    },
    {
     "name": "stdout",
     "output_type": "stream",
     "text": [
      "JSONDecodeError for ISIN: DE000A0D6554\n",
      "JSONDecodeError for ISIN: DE000A1H8BV3\n",
      "JSONDecodeError for ISIN: DE0005936124\n",
      "JSONDecodeError for ISIN: DE0006286560\n"
     ]
    },
    {
     "name": "stderr",
     "output_type": "stream",
     "text": [
      "Calculating quarterly Market Cap:  52%|█████▏    | 171/331 [00:15<00:08, 18.09it/s]"
     ]
    },
    {
     "name": "stdout",
     "output_type": "stream",
     "text": [
      "JSONDecodeError for ISIN: DE0005558696\n",
      "JSONDecodeError for ISIN: DE000PAT1AG3\n",
      "JSONDecodeError for ISIN: DE0006916604\n",
      "JSONDecodeError for ISIN: DE000A2P4LJ5\n"
     ]
    },
    {
     "name": "stderr",
     "output_type": "stream",
     "text": [
      "Calculating quarterly Market Cap:  53%|█████▎    | 175/331 [00:16<00:08, 18.61it/s]"
     ]
    },
    {
     "name": "stdout",
     "output_type": "stream",
     "text": [
      "JSONDecodeError for ISIN: DE000A0JBPG2\n",
      "JSONDecodeError for ISIN: DE0006223407\n",
      "JSONDecodeError for ISIN: DE0006968001\n",
      "JSONDecodeError for ISIN: DE000PSM7770\n",
      "JSONDecodeError for ISIN: DE000A0Z1JH9\n"
     ]
    },
    {
     "name": "stderr",
     "output_type": "stream",
     "text": [
      "Calculating quarterly Market Cap:  54%|█████▍    | 179/331 [00:16<00:08, 18.75it/s]"
     ]
    },
    {
     "name": "stdout",
     "output_type": "stream",
     "text": [
      "JSONDecodeError for ISIN: DE0006969603\n",
      "JSONDecodeError for ISIN: DE0007461006\n",
      "JSONDecodeError for ISIN: DE0005137004\n",
      "JSONDecodeError for ISIN: DE000A1PHBB5\n"
     ]
    },
    {
     "name": "stderr",
     "output_type": "stream",
     "text": [
      "Calculating quarterly Market Cap:  55%|█████▌    | 183/331 [00:16<00:07, 18.82it/s]"
     ]
    },
    {
     "name": "stdout",
     "output_type": "stream",
     "text": [
      "JSONDecodeError for ISIN: DE0007010803\n",
      "JSONDecodeError for ISIN: DE0007030009\n",
      "JSONDecodeError for ISIN: DE0007042301\n",
      "JSONDecodeError for ISIN: DE0007037129\n"
     ]
    },
    {
     "name": "stderr",
     "output_type": "stream",
     "text": [
      "Calculating quarterly Market Cap:  57%|█████▋    | 188/331 [00:16<00:08, 17.80it/s]"
     ]
    },
    {
     "name": "stdout",
     "output_type": "stream",
     "text": [
      "JSONDecodeError for ISIN: DE0007164600\n",
      "JSONDecodeError for ISIN: DE0007165607\n",
      "JSONDecodeError for ISIN: DE0007165631\n",
      "JSONDecodeError for ISIN: DE000SHA0159\n"
     ]
    },
    {
     "name": "stderr",
     "output_type": "stream",
     "text": [
      "Calculating quarterly Market Cap:  58%|█████▊    | 192/331 [00:16<00:07, 18.23it/s]"
     ]
    },
    {
     "name": "stdout",
     "output_type": "stream",
     "text": [
      "JSONDecodeError for ISIN: DE000A12DM80\n",
      "JSONDecodeError for ISIN: DE0007276503\n",
      "JSONDecodeError for ISIN: DE0007568578\n",
      "JSONDecodeError for ISIN: DE0007235301\n"
     ]
    },
    {
     "name": "stderr",
     "output_type": "stream",
     "text": [
      "Calculating quarterly Market Cap:  60%|█████▉    | 197/331 [00:17<00:07, 18.88it/s]"
     ]
    },
    {
     "name": "stdout",
     "output_type": "stream",
     "text": [
      "JSONDecodeError for ISIN: DE0007236101\n",
      "JSONDecodeError for ISIN: DE000ENER6Y0\n",
      "JSONDecodeError for ISIN: DE000SHL1006\n",
      "JSONDecodeError for ISIN: DE000WAF3001\n"
     ]
    },
    {
     "name": "stderr",
     "output_type": "stream",
     "text": [
      "Calculating quarterly Market Cap:  60%|██████    | 199/331 [00:17<00:07, 18.47it/s]"
     ]
    },
    {
     "name": "stdout",
     "output_type": "stream",
     "text": [
      "JSONDecodeError for ISIN: DE000A1681X5\n",
      "JSONDecodeError for ISIN: DE0007231326\n",
      "JSONDecodeError for ISIN: DE0007231334\n"
     ]
    },
    {
     "name": "stderr",
     "output_type": "stream",
     "text": [
      "Calculating quarterly Market Cap:  73%|███████▎  | 241/331 [00:24<00:07, 11.30it/s]"
     ]
    },
    {
     "name": "stdout",
     "output_type": "stream",
     "text": [
      "JSONDecodeError for ISIN: DE0005932735\n",
      "JSONDecodeError for ISIN: DE000ZAL1111\n",
      "JSONDecodeError for ISIN: DE000ZEAL241\n",
      "JSONDecodeError for ISIN: DE000A11QW68\n"
     ]
    },
    {
     "name": "stderr",
     "output_type": "stream",
     "text": [
      "Calculating quarterly Market Cap:  73%|███████▎  | 243/331 [00:24<00:06, 12.94it/s]"
     ]
    },
    {
     "name": "stdout",
     "output_type": "stream",
     "text": [
      "JSONDecodeError for ISIN: DE000A3H2101\n",
      "JSONDecodeError for ISIN: DE000A0Z23Q5\n",
      "JSONDecodeError for ISIN: DE0006569403\n"
     ]
    },
    {
     "name": "stderr",
     "output_type": "stream",
     "text": [
      "Calculating quarterly Market Cap:  75%|███████▍  | 248/331 [00:25<00:05, 14.14it/s]"
     ]
    },
    {
     "name": "stdout",
     "output_type": "stream",
     "text": [
      "JSONDecodeError for ISIN: DE0001262152\n",
      "JSONDecodeError for ISIN: DE0005201602\n",
      "JSONDecodeError for ISIN: DE0005229504\n",
      "JSONDecodeError for ISIN: DE000A2AA204\n"
     ]
    },
    {
     "name": "stderr",
     "output_type": "stream",
     "text": [
      "Calculating quarterly Market Cap:  76%|███████▌  | 252/331 [00:25<00:04, 15.84it/s]"
     ]
    },
    {
     "name": "stdout",
     "output_type": "stream",
     "text": [
      "JSONDecodeError for ISIN: DE0005580005\n",
      "JSONDecodeError for ISIN: DE000A255G02\n",
      "JSONDecodeError for ISIN: DE0005220008\n",
      "JSONDecodeError for ISIN: DE0005313506\n"
     ]
    },
    {
     "name": "stderr",
     "output_type": "stream",
     "text": [
      "Calculating quarterly Market Cap:  77%|███████▋  | 256/331 [00:25<00:04, 17.19it/s]"
     ]
    },
    {
     "name": "stdout",
     "output_type": "stream",
     "text": [
      "JSONDecodeError for ISIN: DE000A1YC913\n",
      "JSONDecodeError for ISIN: DE0005775803\n",
      "JSONDecodeError for ISIN: DE0006201106\n",
      "JSONDecodeError for ISIN: DE000A0KF6M8\n"
     ]
    },
    {
     "name": "stderr",
     "output_type": "stream",
     "text": [
      "Calculating quarterly Market Cap:  79%|███████▊  | 260/331 [00:25<00:04, 17.43it/s]"
     ]
    },
    {
     "name": "stdout",
     "output_type": "stream",
     "text": [
      "JSONDecodeError for ISIN: DE000A254294\n",
      "JSONDecodeError for ISIN: DE0006223605\n",
      "JSONDecodeError for ISIN: DE0006578008\n",
      "JSONDecodeError for ISIN: DE0007857476\n"
     ]
    },
    {
     "name": "stderr",
     "output_type": "stream",
     "text": [
      "Calculating quarterly Market Cap:  80%|███████▉  | 264/331 [00:26<00:03, 17.37it/s]"
     ]
    },
    {
     "name": "stdout",
     "output_type": "stream",
     "text": [
      "JSONDecodeError for ISIN: DE0006292006\n",
      "JSONDecodeError for ISIN: DE0006292030\n",
      "JSONDecodeError for ISIN: DE0005754402\n",
      "JSONDecodeError for ISIN: DE0006044001\n"
     ]
    },
    {
     "name": "stderr",
     "output_type": "stream",
     "text": [
      "Calculating quarterly Market Cap:  81%|████████  | 268/331 [00:26<00:03, 18.09it/s]"
     ]
    },
    {
     "name": "stdout",
     "output_type": "stream",
     "text": [
      "JSONDecodeError for ISIN: DE0006605009\n",
      "JSONDecodeError for ISIN: DE000A0LBFE4\n",
      "JSONDecodeError for ISIN: DE0005855183\n",
      "JSONDecodeError for ISIN: DE000A254203\n"
     ]
    },
    {
     "name": "stderr",
     "output_type": "stream",
     "text": [
      "Calculating quarterly Market Cap:  82%|████████▏ | 273/331 [00:26<00:03, 18.78it/s]"
     ]
    },
    {
     "name": "stdout",
     "output_type": "stream",
     "text": [
      "JSONDecodeError for ISIN: DE0006214687\n",
      "JSONDecodeError for ISIN: DE000A12UP37\n",
      "JSONDecodeError for ISIN: DE0005228779\n",
      "JSONDecodeError for ISIN: DE000A2YN777\n"
     ]
    },
    {
     "name": "stderr",
     "output_type": "stream",
     "text": [
      "Calculating quarterly Market Cap:  83%|████████▎ | 275/331 [00:26<00:03, 17.23it/s]"
     ]
    },
    {
     "name": "stdout",
     "output_type": "stream",
     "text": [
      "JSONDecodeError for ISIN: DE000PAH0038\n",
      "JSONDecodeError for ISIN: DE000A1E89S5\n"
     ]
    },
    {
     "name": "stderr",
     "output_type": "stream",
     "text": [
      "Calculating quarterly Market Cap:  84%|████████▍ | 279/331 [00:27<00:04, 11.52it/s]"
     ]
    },
    {
     "name": "stdout",
     "output_type": "stream",
     "text": [
      "JSONDecodeError for ISIN: DE0007229007\n",
      "JSONDecodeError for ISIN: DE0005156236\n",
      "JSONDecodeError for ISIN: DE0007279507\n",
      "JSONDecodeError for ISIN: DE000A1EMG56\n"
     ]
    },
    {
     "name": "stderr",
     "output_type": "stream",
     "text": [
      "Calculating quarterly Market Cap:  85%|████████▌ | 283/331 [00:27<00:03, 14.20it/s]"
     ]
    },
    {
     "name": "stdout",
     "output_type": "stream",
     "text": [
      "JSONDecodeError for ISIN: DE0007274136\n",
      "JSONDecodeError for ISIN: DE000A1TNU68\n",
      "JSONDecodeError for ISIN: DE0007501009\n",
      "JSONDecodeError for ISIN: DE0007551509\n"
     ]
    },
    {
     "name": "stderr",
     "output_type": "stream",
     "text": [
      "Calculating quarterly Market Cap:  87%|████████▋ | 287/331 [00:27<00:02, 15.75it/s]"
     ]
    },
    {
     "name": "stdout",
     "output_type": "stream",
     "text": [
      "JSONDecodeError for ISIN: DE000A1X3X33\n",
      "JSONDecodeError for ISIN: DE000A161N14\n",
      "JSONDecodeError for ISIN: DE000A0HL8N9\n",
      "JSONDecodeError for ISIN: DE0005209589\n"
     ]
    },
    {
     "name": "stderr",
     "output_type": "stream",
     "text": [
      "Calculating quarterly Market Cap:  88%|████████▊ | 291/331 [00:27<00:02, 16.51it/s]"
     ]
    },
    {
     "name": "stdout",
     "output_type": "stream",
     "text": [
      "JSONDecodeError for ISIN: DE000A0JM2M1\n",
      "JSONDecodeError for ISIN: DE000A2E4SV8\n",
      "JSONDecodeError for ISIN: DE0007830572\n",
      "JSONDecodeError for ISIN: DE000A0JC8S7\n"
     ]
    },
    {
     "name": "stderr",
     "output_type": "stream",
     "text": [
      "Calculating quarterly Market Cap:  89%|████████▉ | 296/331 [00:28<00:02, 17.37it/s]"
     ]
    },
    {
     "name": "stdout",
     "output_type": "stream",
     "text": [
      "JSONDecodeError for ISIN: DE000A0V9LA7\n",
      "JSONDecodeError for ISIN: DE000A0MZ4B0\n",
      "JSONDecodeError for ISIN: DE0005533400\n",
      "JSONDecodeError for ISIN: DE000A0XYG76\n"
     ]
    },
    {
     "name": "stderr",
     "output_type": "stream",
     "text": [
      "Calculating quarterly Market Cap:  91%|█████████ | 300/331 [00:28<00:01, 17.58it/s]"
     ]
    },
    {
     "name": "stdout",
     "output_type": "stream",
     "text": [
      "JSONDecodeError for ISIN: DE0005649503\n",
      "JSONDecodeError for ISIN: DE0005494165\n",
      "JSONDecodeError for ISIN: DE000A161077\n",
      "JSONDecodeError for ISIN: DE000A0LR9G9\n"
     ]
    },
    {
     "name": "stderr",
     "output_type": "stream",
     "text": [
      "Calculating quarterly Market Cap:  96%|█████████▌| 318/331 [00:32<00:02,  5.06it/s]/tmp/ipykernel_1031/2795882821.py:42: PerformanceWarning: DataFrame is highly fragmented.  This is usually the result of calling `frame.insert` many times, which has poor performance.  Consider joining all columns at once using pd.concat(axis=1) instead. To get a de-fragmented frame, use `newframe = frame.copy()`\n",
      "  quarterly_market_cap_df[ISIN] = quarterly_market_cap\n",
      "Calculating quarterly Market Cap:  96%|█████████▋| 319/331 [00:34<00:08,  1.46it/s]/tmp/ipykernel_1031/2795882821.py:42: PerformanceWarning: DataFrame is highly fragmented.  This is usually the result of calling `frame.insert` many times, which has poor performance.  Consider joining all columns at once using pd.concat(axis=1) instead. To get a de-fragmented frame, use `newframe = frame.copy()`\n",
      "  quarterly_market_cap_df[ISIN] = quarterly_market_cap\n",
      "Calculating quarterly Market Cap:  97%|█████████▋| 320/331 [00:34<00:05,  1.92it/s]/tmp/ipykernel_1031/2795882821.py:42: PerformanceWarning: DataFrame is highly fragmented.  This is usually the result of calling `frame.insert` many times, which has poor performance.  Consider joining all columns at once using pd.concat(axis=1) instead. To get a de-fragmented frame, use `newframe = frame.copy()`\n",
      "  quarterly_market_cap_df[ISIN] = quarterly_market_cap\n",
      "Calculating quarterly Market Cap:  97%|█████████▋| 321/331 [00:34<00:04,  2.44it/s]/tmp/ipykernel_1031/2795882821.py:42: PerformanceWarning: DataFrame is highly fragmented.  This is usually the result of calling `frame.insert` many times, which has poor performance.  Consider joining all columns at once using pd.concat(axis=1) instead. To get a de-fragmented frame, use `newframe = frame.copy()`\n",
      "  quarterly_market_cap_df[ISIN] = quarterly_market_cap\n",
      "Calculating quarterly Market Cap:  97%|█████████▋| 322/331 [00:34<00:03,  2.54it/s]/tmp/ipykernel_1031/2795882821.py:42: PerformanceWarning: DataFrame is highly fragmented.  This is usually the result of calling `frame.insert` many times, which has poor performance.  Consider joining all columns at once using pd.concat(axis=1) instead. To get a de-fragmented frame, use `newframe = frame.copy()`\n",
      "  quarterly_market_cap_df[ISIN] = quarterly_market_cap\n",
      "Calculating quarterly Market Cap:  98%|█████████▊| 323/331 [00:35<00:03,  2.47it/s]/tmp/ipykernel_1031/2795882821.py:42: PerformanceWarning: DataFrame is highly fragmented.  This is usually the result of calling `frame.insert` many times, which has poor performance.  Consider joining all columns at once using pd.concat(axis=1) instead. To get a de-fragmented frame, use `newframe = frame.copy()`\n",
      "  quarterly_market_cap_df[ISIN] = quarterly_market_cap\n",
      "Calculating quarterly Market Cap:  98%|█████████▊| 324/331 [00:35<00:02,  2.80it/s]/tmp/ipykernel_1031/2795882821.py:42: PerformanceWarning: DataFrame is highly fragmented.  This is usually the result of calling `frame.insert` many times, which has poor performance.  Consider joining all columns at once using pd.concat(axis=1) instead. To get a de-fragmented frame, use `newframe = frame.copy()`\n",
      "  quarterly_market_cap_df[ISIN] = quarterly_market_cap\n",
      "Calculating quarterly Market Cap:  98%|█████████▊| 325/331 [00:36<00:02,  2.61it/s]/tmp/ipykernel_1031/2795882821.py:42: PerformanceWarning: DataFrame is highly fragmented.  This is usually the result of calling `frame.insert` many times, which has poor performance.  Consider joining all columns at once using pd.concat(axis=1) instead. To get a de-fragmented frame, use `newframe = frame.copy()`\n",
      "  quarterly_market_cap_df[ISIN] = quarterly_market_cap\n",
      "Calculating quarterly Market Cap:  98%|█████████▊| 326/331 [00:36<00:01,  3.22it/s]/tmp/ipykernel_1031/2795882821.py:42: PerformanceWarning: DataFrame is highly fragmented.  This is usually the result of calling `frame.insert` many times, which has poor performance.  Consider joining all columns at once using pd.concat(axis=1) instead. To get a de-fragmented frame, use `newframe = frame.copy()`\n",
      "  quarterly_market_cap_df[ISIN] = quarterly_market_cap\n",
      "Calculating quarterly Market Cap:  99%|█████████▉| 327/331 [00:36<00:01,  2.28it/s]/tmp/ipykernel_1031/2795882821.py:42: PerformanceWarning: DataFrame is highly fragmented.  This is usually the result of calling `frame.insert` many times, which has poor performance.  Consider joining all columns at once using pd.concat(axis=1) instead. To get a de-fragmented frame, use `newframe = frame.copy()`\n",
      "  quarterly_market_cap_df[ISIN] = quarterly_market_cap\n",
      "Calculating quarterly Market Cap:  99%|█████████▉| 328/331 [00:37<00:01,  2.56it/s]/tmp/ipykernel_1031/2795882821.py:42: PerformanceWarning: DataFrame is highly fragmented.  This is usually the result of calling `frame.insert` many times, which has poor performance.  Consider joining all columns at once using pd.concat(axis=1) instead. To get a de-fragmented frame, use `newframe = frame.copy()`\n",
      "  quarterly_market_cap_df[ISIN] = quarterly_market_cap\n",
      "Calculating quarterly Market Cap:  99%|█████████▉| 329/331 [00:37<00:00,  3.24it/s]/tmp/ipykernel_1031/2795882821.py:42: PerformanceWarning: DataFrame is highly fragmented.  This is usually the result of calling `frame.insert` many times, which has poor performance.  Consider joining all columns at once using pd.concat(axis=1) instead. To get a de-fragmented frame, use `newframe = frame.copy()`\n",
      "  quarterly_market_cap_df[ISIN] = quarterly_market_cap\n",
      "Calculating quarterly Market Cap: 100%|█████████▉| 330/331 [00:37<00:00,  3.05it/s]/tmp/ipykernel_1031/2795882821.py:42: PerformanceWarning: DataFrame is highly fragmented.  This is usually the result of calling `frame.insert` many times, which has poor performance.  Consider joining all columns at once using pd.concat(axis=1) instead. To get a de-fragmented frame, use `newframe = frame.copy()`\n",
      "  quarterly_market_cap_df[ISIN] = quarterly_market_cap\n",
      "Calculating quarterly Market Cap: 100%|██████████| 331/331 [00:37<00:00,  8.75it/s]"
     ]
    },
    {
     "name": "stdout",
     "output_type": "stream",
     "text": [
      "Problematic ISINs: ['DE0005419105', 'DE000A2G9M17', 'DE0005313704', 'DE0007257503', 'DE0005407100', 'DE0005403901', 'DE000CBK1001', 'DE000A288904', 'DE0005439004', 'DE0006062144', 'DE000A2LQUA5', 'DE000A0LAUP1', 'DE0005470306', 'DE0007100000', 'DE0005498901', 'DE000A2E4K43', 'DE0005146807', 'DE000A0XFSF0', 'DE000A2GS5D8', 'DE0005810055', 'DE0007480204', 'DE0005552004', 'DE000A0HN5C6', 'DE0006305006', 'DE000A2NBVD5', 'DE0005157101', 'DE0005550602', 'DE0005550636', 'DE000A1TNUT7', 'DE000A14KRD3', 'DE0008019001', 'DE0005557508', 'DE0005565204', 'DE000DWS1007', 'DE000ENAG999', 'DE0005659700', 'DE0005854343', 'DE0005654933', 'DE0005677108', 'DE0007856023', 'DE000A11Q059', 'DE0006095003', 'DE000A1X3WX6', 'DE000EVNK013', 'DE0005664809', 'DE0005772206', 'DE0007201907', 'DE000FTG1111', 'DE0005774103', 'DE0005773303', 'DE000A0Z2ZZ5', 'DE0005785802', 'DE0005785604', 'DE000A0JJTG7', 'DE0006602006', 'DE0005495626', 'DE000A0LD6E6', 'DE0005800601', 'DE000A161N30', 'DE000A2E4T77', 'DE000A0S8488', 'DE0008402215', 'DE000HLAG475', 'DE0006042708', 'DE000A11QVV0', 'DE0006047004', 'DE0007314007', 'DE000A13SX22', 'DE000A161408', 'DE0006048408', 'DE0006048432', 'DE000HAG0005', 'DE0006070006', 'DE0006083405', 'DE000A1PHFF7', 'DE0005493365', 'DE0006200108', 'DE0006231004', 'DE0005759807', 'DE000A2NBX80', 'DE000A254211', 'DE0005874846', 'DE0005859698', 'DE0007448508', 'DE000JST4000', 'DE0006219934', 'DE000KSAG888', 'DE0006208408', 'DE000KGX8881', 'DE000KC01000', 'DE000A2YN504', 'DE000KBX1006', 'DE0007193500', 'DE000A1A6V48', 'DE0006335003', 'DE0007074007', 'DE0005470405', 'DE000LEG1110', 'DE0006464506', 'DE0006450000', 'DE0005199905', 'DE0008232125', 'DE000A0JQ5U3', 'DE0005492938', 'DE000A2DA588', 'DE000A0ETBQ4', 'DE0006595101', 'DE000A1X3W00', 'DE000A1MMCC8', 'DE0006599905', 'DE000BFB0019', 'DE000BFB0027', 'DE0006632003', 'DE000A0D9PT0', 'DE0008430026', 'DE000A0H52F5', 'DE000A3H2200', 'DE0006452907', 'DE000NWRK013', 'DE0005220909', 'DE000A0N4N52', 'DE000A0D6554', 'DE000A1H8BV3', 'DE0005936124', 'DE0006286560', 'DE0005558696', 'DE000PAT1AG3', 'DE0006916604', 'DE000A2P4LJ5', 'DE000A0JBPG2', 'DE0006223407', 'DE0006968001', 'DE000PSM7770', 'DE000A0Z1JH9', 'DE0006969603', 'DE0007461006', 'DE0005137004', 'DE000A1PHBB5', 'DE0007010803', 'DE0007030009', 'DE0007042301', 'DE0007037129', 'DE0007164600', 'DE0007165607', 'DE0007165631', 'DE000SHA0159', 'DE000A12DM80', 'DE0007276503', 'DE0007568578', 'DE0007235301', 'DE0007236101', 'DE000ENER6Y0', 'DE000SHL1006', 'DE000WAF3001', 'DE000A1681X5', 'DE0007231326', 'DE0007231334', 'DE0005932735', 'DE000ZAL1111', 'DE000ZEAL241', 'DE000A11QW68', 'DE000A3H2101', 'DE000A0Z23Q5', 'DE0006569403', 'DE0001262152', 'DE0005201602', 'DE0005229504', 'DE000A2AA204', 'DE0005580005', 'DE000A255G02', 'DE0005220008', 'DE0005313506', 'DE000A1YC913', 'DE0005775803', 'DE0006201106', 'DE000A0KF6M8', 'DE000A254294', 'DE0006223605', 'DE0006578008', 'DE0007857476', 'DE0006292006', 'DE0006292030', 'DE0005754402', 'DE0006044001', 'DE0006605009', 'DE000A0LBFE4', 'DE0005855183', 'DE000A254203', 'DE0006214687', 'DE000A12UP37', 'DE0005228779', 'DE000A2YN777', 'DE000PAH0038', 'DE000A1E89S5', 'DE0007229007', 'DE0005156236', 'DE0007279507', 'DE000A1EMG56', 'DE0007274136', 'DE000A1TNU68', 'DE0007501009', 'DE0007551509', 'DE000A1X3X33', 'DE000A161N14', 'DE000A0HL8N9', 'DE0005209589', 'DE000A0JM2M1', 'DE000A2E4SV8', 'DE0007830572', 'DE000A0JC8S7', 'DE000A0V9LA7', 'DE000A0MZ4B0', 'DE0005533400', 'DE000A0XYG76', 'DE0005649503', 'DE0005494165', 'DE000A161077', 'DE000A0LR9G9']\n"
     ]
    },
    {
     "name": "stderr",
     "output_type": "stream",
     "text": [
      "\n"
     ]
    }
   ],
   "source": [
    "from tqdm import tqdm\n",
    "import json\n",
    "import pandas as pd\n",
    "import numpy as np\n",
    "\n",
    "# Initialize an empty DataFrame to store the quarterly market cap\n",
    "quarterly_market_cap_df = pd.DataFrame()\n",
    "\n",
    "# Create an instance of the Equities class\n",
    "equity_instance = bf4py.equities.Equities()\n",
    "\n",
    "# Initialize a list to store problematic ISINs\n",
    "problematic_isins = []\n",
    "\n",
    "# Loop through each column (ISIN) in the final_df\n",
    "for ISIN in tqdm(final_df.columns, desc='Calculating quarterly Market Cap'):\n",
    "    try:\n",
    "        # Validate ISIN format (basic validation)\n",
    "        if len(ISIN) != 12:\n",
    "            print(f\"Skipping invalid ISIN format: {ISIN}\")\n",
    "            continue\n",
    "\n",
    "        # Resample to get the average share price per quarter\n",
    "        avg_price_per_quarter = final_df[ISIN].resample('Q').mean()\n",
    "        \n",
    "        # Check for NaN\n",
    "        if pd.isna(avg_price_per_quarter).all():\n",
    "            avg_price_per_quarter = 1\n",
    "\n",
    "        # Get the number of shares using the key_data method\n",
    "        key_data = equity_instance.key_data(isin=ISIN)\n",
    "        num_shares = key_data.get('numberOfShares', 1)  # Default to 1 if not found\n",
    "        \n",
    "        # Calculate the quarterly market cap\n",
    "        quarterly_market_cap = avg_price_per_quarter * num_shares\n",
    "\n",
    "        # Check for problematic calculations\n",
    "        if quarterly_market_cap.equals(num_shares):\n",
    "            quarterly_market_cap = 1\n",
    "        \n",
    "        # Add to the quarterly_market_cap_df DataFrame\n",
    "        quarterly_market_cap_df[ISIN] = quarterly_market_cap\n",
    "    except json.JSONDecodeError:\n",
    "        print(f\"JSONDecodeError for ISIN: {ISIN}\")\n",
    "        problematic_isins.append(ISIN)\n",
    "    except Exception as e:\n",
    "        print(f\"An unknown error occurred for ISIN: {ISIN}. Error: {e}\")\n",
    "        problematic_isins.append(ISIN)\n",
    "\n",
    "# Output problematic ISINs\n",
    "print(\"Problematic ISINs:\", problematic_isins)\n"
   ]
  },
  {
   "cell_type": "code",
   "execution_count": null,
   "metadata": {},
   "outputs": [],
   "source": [
    "# Create a mapping dictionary from the company_info_df\n",
    "isin_to_symbol = dict(zip(traded_companies['ISIN'], traded_companies['Trading Symbol']))\n",
    "\n",
    "# Rename the columns in the final_df\n",
    "final_df.rename(columns=isin_to_symbol, inplace=True)\n",
    "quarterly_market_cap_df.rename(columns=isin_to_symbol, inplace=True)\n",
    "\n",
    "# save file\n",
    "final_df.to_csv('../data/closing_prices.csv')\n",
    "quarterly_market_cap_df.to_csv('../data/market_cap.csv')"
   ]
  },
  {
   "cell_type": "code",
   "execution_count": 136,
   "metadata": {},
   "outputs": [
    {
     "name": "stdout",
     "output_type": "stream",
     "text": [
      "(56, 92)\n"
     ]
    },
    {
     "data": {
      "text/html": [
       "<div>\n",
       "<style scoped>\n",
       "    .dataframe tbody tr th:only-of-type {\n",
       "        vertical-align: middle;\n",
       "    }\n",
       "\n",
       "    .dataframe tbody tr th {\n",
       "        vertical-align: top;\n",
       "    }\n",
       "\n",
       "    .dataframe thead th {\n",
       "        text-align: right;\n",
       "    }\n",
       "</style>\n",
       "<table border=\"1\" class=\"dataframe\">\n",
       "  <thead>\n",
       "    <tr style=\"text-align: right;\">\n",
       "      <th></th>\n",
       "      <th>DE0005545503</th>\n",
       "      <th>DE0005118806</th>\n",
       "      <th>DE0005167902</th>\n",
       "      <th>DE000A1TNNN5</th>\n",
       "      <th>DE000A0KFKB3</th>\n",
       "      <th>DE000A1EWWW0</th>\n",
       "      <th>DE0005103006</th>\n",
       "      <th>DE000A0WMPJ6</th>\n",
       "      <th>DE0005110001</th>\n",
       "      <th>DE0008404005</th>\n",
       "      <th>...</th>\n",
       "      <th>DE000A2AA204</th>\n",
       "      <th>DE0005228779</th>\n",
       "      <th>DE000A0LR9G9</th>\n",
       "      <th>DE000A2QEFA1</th>\n",
       "      <th>DE0001218063</th>\n",
       "      <th>DE000A1EWVY8</th>\n",
       "      <th>DE000A0EQ578</th>\n",
       "      <th>DE000A0XYHT5</th>\n",
       "      <th>DE000A0B9N37</th>\n",
       "      <th>DE000A12UP29</th>\n",
       "    </tr>\n",
       "  </thead>\n",
       "  <tbody>\n",
       "    <tr>\n",
       "      <th>2010-03-31</th>\n",
       "      <td>8.903177e+08</td>\n",
       "      <td>2.575260e+08</td>\n",
       "      <td>2.806188e+07</td>\n",
       "      <td>7.768866e+07</td>\n",
       "      <td>6.049872e+07</td>\n",
       "      <td>6.779257e+09</td>\n",
       "      <td>1.524161e+08</td>\n",
       "      <td>2.652768e+09</td>\n",
       "      <td>1.935204e+07</td>\n",
       "      <td>3.428993e+10</td>\n",
       "      <td>...</td>\n",
       "      <td>7.015330e+07</td>\n",
       "      <td>1.104534e+07</td>\n",
       "      <td>NaN</td>\n",
       "      <td>NaN</td>\n",
       "      <td>9.715313e+07</td>\n",
       "      <td>NaN</td>\n",
       "      <td>2.974667e+07</td>\n",
       "      <td>NaN</td>\n",
       "      <td>1.364793e+08</td>\n",
       "      <td>3.086524e+07</td>\n",
       "    </tr>\n",
       "    <tr>\n",
       "      <th>2010-06-30</th>\n",
       "      <td>9.125305e+08</td>\n",
       "      <td>2.287634e+08</td>\n",
       "      <td>2.522507e+07</td>\n",
       "      <td>8.523822e+07</td>\n",
       "      <td>6.719215e+07</td>\n",
       "      <td>7.532757e+09</td>\n",
       "      <td>2.194765e+08</td>\n",
       "      <td>2.712456e+09</td>\n",
       "      <td>2.070961e+07</td>\n",
       "      <td>3.433660e+10</td>\n",
       "      <td>...</td>\n",
       "      <td>7.285048e+07</td>\n",
       "      <td>1.183619e+07</td>\n",
       "      <td>NaN</td>\n",
       "      <td>NaN</td>\n",
       "      <td>8.714772e+07</td>\n",
       "      <td>NaN</td>\n",
       "      <td>3.033780e+07</td>\n",
       "      <td>NaN</td>\n",
       "      <td>1.531712e+08</td>\n",
       "      <td>3.248097e+07</td>\n",
       "    </tr>\n",
       "    <tr>\n",
       "      <th>2010-09-30</th>\n",
       "      <td>8.770135e+08</td>\n",
       "      <td>1.834096e+08</td>\n",
       "      <td>2.672730e+07</td>\n",
       "      <td>8.389125e+07</td>\n",
       "      <td>6.487969e+07</td>\n",
       "      <td>7.540623e+09</td>\n",
       "      <td>2.373901e+08</td>\n",
       "      <td>2.440746e+09</td>\n",
       "      <td>2.299912e+07</td>\n",
       "      <td>3.429987e+10</td>\n",
       "      <td>...</td>\n",
       "      <td>6.991479e+07</td>\n",
       "      <td>1.283057e+07</td>\n",
       "      <td>NaN</td>\n",
       "      <td>NaN</td>\n",
       "      <td>8.119491e+07</td>\n",
       "      <td>NaN</td>\n",
       "      <td>3.067373e+07</td>\n",
       "      <td>NaN</td>\n",
       "      <td>1.885545e+08</td>\n",
       "      <td>3.156891e+07</td>\n",
       "    </tr>\n",
       "    <tr>\n",
       "      <th>2010-12-31</th>\n",
       "      <td>1.027600e+09</td>\n",
       "      <td>1.796059e+08</td>\n",
       "      <td>2.699677e+07</td>\n",
       "      <td>8.582479e+07</td>\n",
       "      <td>6.659842e+07</td>\n",
       "      <td>8.678025e+09</td>\n",
       "      <td>2.957979e+08</td>\n",
       "      <td>2.743376e+09</td>\n",
       "      <td>2.953895e+07</td>\n",
       "      <td>3.574045e+10</td>\n",
       "      <td>...</td>\n",
       "      <td>6.820223e+07</td>\n",
       "      <td>1.277743e+07</td>\n",
       "      <td>NaN</td>\n",
       "      <td>NaN</td>\n",
       "      <td>9.589121e+07</td>\n",
       "      <td>1.505515e+08</td>\n",
       "      <td>3.309885e+07</td>\n",
       "      <td>NaN</td>\n",
       "      <td>1.707014e+08</td>\n",
       "      <td>3.244135e+07</td>\n",
       "    </tr>\n",
       "    <tr>\n",
       "      <th>2011-03-31</th>\n",
       "      <td>1.179296e+09</td>\n",
       "      <td>2.032777e+08</td>\n",
       "      <td>2.493017e+07</td>\n",
       "      <td>8.114853e+07</td>\n",
       "      <td>6.660923e+07</td>\n",
       "      <td>8.354489e+09</td>\n",
       "      <td>3.398158e+08</td>\n",
       "      <td>3.454518e+09</td>\n",
       "      <td>4.135065e+07</td>\n",
       "      <td>4.028928e+10</td>\n",
       "      <td>...</td>\n",
       "      <td>6.763338e+07</td>\n",
       "      <td>1.293416e+07</td>\n",
       "      <td>NaN</td>\n",
       "      <td>NaN</td>\n",
       "      <td>9.446690e+07</td>\n",
       "      <td>1.373525e+08</td>\n",
       "      <td>3.985949e+07</td>\n",
       "      <td>NaN</td>\n",
       "      <td>1.711793e+08</td>\n",
       "      <td>4.387923e+07</td>\n",
       "    </tr>\n",
       "  </tbody>\n",
       "</table>\n",
       "<p>5 rows × 92 columns</p>\n",
       "</div>"
      ],
      "text/plain": [
       "            DE0005545503  DE0005118806  DE0005167902  DE000A1TNNN5  \\\n",
       "2010-03-31  8.903177e+08  2.575260e+08  2.806188e+07  7.768866e+07   \n",
       "2010-06-30  9.125305e+08  2.287634e+08  2.522507e+07  8.523822e+07   \n",
       "2010-09-30  8.770135e+08  1.834096e+08  2.672730e+07  8.389125e+07   \n",
       "2010-12-31  1.027600e+09  1.796059e+08  2.699677e+07  8.582479e+07   \n",
       "2011-03-31  1.179296e+09  2.032777e+08  2.493017e+07  8.114853e+07   \n",
       "\n",
       "            DE000A0KFKB3  DE000A1EWWW0  DE0005103006  DE000A0WMPJ6  \\\n",
       "2010-03-31  6.049872e+07  6.779257e+09  1.524161e+08  2.652768e+09   \n",
       "2010-06-30  6.719215e+07  7.532757e+09  2.194765e+08  2.712456e+09   \n",
       "2010-09-30  6.487969e+07  7.540623e+09  2.373901e+08  2.440746e+09   \n",
       "2010-12-31  6.659842e+07  8.678025e+09  2.957979e+08  2.743376e+09   \n",
       "2011-03-31  6.660923e+07  8.354489e+09  3.398158e+08  3.454518e+09   \n",
       "\n",
       "            DE0005110001  DE0008404005  ...  DE000A2AA204  DE0005228779  \\\n",
       "2010-03-31  1.935204e+07  3.428993e+10  ...  7.015330e+07  1.104534e+07   \n",
       "2010-06-30  2.070961e+07  3.433660e+10  ...  7.285048e+07  1.183619e+07   \n",
       "2010-09-30  2.299912e+07  3.429987e+10  ...  6.991479e+07  1.283057e+07   \n",
       "2010-12-31  2.953895e+07  3.574045e+10  ...  6.820223e+07  1.277743e+07   \n",
       "2011-03-31  4.135065e+07  4.028928e+10  ...  6.763338e+07  1.293416e+07   \n",
       "\n",
       "            DE000A0LR9G9  DE000A2QEFA1  DE0001218063  DE000A1EWVY8  \\\n",
       "2010-03-31           NaN           NaN  9.715313e+07           NaN   \n",
       "2010-06-30           NaN           NaN  8.714772e+07           NaN   \n",
       "2010-09-30           NaN           NaN  8.119491e+07           NaN   \n",
       "2010-12-31           NaN           NaN  9.589121e+07  1.505515e+08   \n",
       "2011-03-31           NaN           NaN  9.446690e+07  1.373525e+08   \n",
       "\n",
       "            DE000A0EQ578  DE000A0XYHT5  DE000A0B9N37  DE000A12UP29  \n",
       "2010-03-31  2.974667e+07           NaN  1.364793e+08  3.086524e+07  \n",
       "2010-06-30  3.033780e+07           NaN  1.531712e+08  3.248097e+07  \n",
       "2010-09-30  3.067373e+07           NaN  1.885545e+08  3.156891e+07  \n",
       "2010-12-31  3.309885e+07           NaN  1.707014e+08  3.244135e+07  \n",
       "2011-03-31  3.985949e+07           NaN  1.711793e+08  4.387923e+07  \n",
       "\n",
       "[5 rows x 92 columns]"
      ]
     },
     "execution_count": 136,
     "metadata": {},
     "output_type": "execute_result"
    }
   ],
   "source": [
    "print(quarterly_market_cap_df.shape)\n",
    "quarterly_market_cap_df.head()"
   ]
  },
  {
   "cell_type": "code",
   "execution_count": 120,
   "metadata": {},
   "outputs": [
    {
     "data": {
      "text/html": [
       "<div>\n",
       "<style scoped>\n",
       "    .dataframe tbody tr th:only-of-type {\n",
       "        vertical-align: middle;\n",
       "    }\n",
       "\n",
       "    .dataframe tbody tr th {\n",
       "        vertical-align: top;\n",
       "    }\n",
       "\n",
       "    .dataframe thead th {\n",
       "        text-align: right;\n",
       "    }\n",
       "</style>\n",
       "<table border=\"1\" class=\"dataframe\">\n",
       "  <thead>\n",
       "    <tr style=\"text-align: right;\">\n",
       "      <th></th>\n",
       "      <th>DE0005545503</th>\n",
       "      <th>DE0005118806</th>\n",
       "      <th>DE0005167902</th>\n",
       "      <th>DE000A1TNNN5</th>\n",
       "      <th>DE000A0KFKB3</th>\n",
       "      <th>DE000A1EWWW0</th>\n",
       "      <th>DE0005103006</th>\n",
       "      <th>DE000A0WMPJ6</th>\n",
       "      <th>DE0005110001</th>\n",
       "      <th>DE0008404005</th>\n",
       "      <th>...</th>\n",
       "      <th>DE000A1MMEV4</th>\n",
       "      <th>DE000A161NR7</th>\n",
       "      <th>DE000A0KEXC7</th>\n",
       "      <th>DE0005895403</th>\n",
       "      <th>DE000A2G8X31</th>\n",
       "      <th>DE000A0BVU28</th>\n",
       "      <th>DE0007846867</th>\n",
       "      <th>DE000A2E4LE9</th>\n",
       "      <th>DE000A255G36</th>\n",
       "      <th>DE0005156004</th>\n",
       "    </tr>\n",
       "  </thead>\n",
       "  <tbody>\n",
       "    <tr>\n",
       "      <th>2010-01-04</th>\n",
       "      <td>4.96</td>\n",
       "      <td>9.122715</td>\n",
       "      <td>0.780</td>\n",
       "      <td>25.30</td>\n",
       "      <td>1.846531</td>\n",
       "      <td>38.505</td>\n",
       "      <td>2.525</td>\n",
       "      <td>23.840</td>\n",
       "      <td>3.45</td>\n",
       "      <td>88.54</td>\n",
       "      <td>...</td>\n",
       "      <td>NaN</td>\n",
       "      <td>NaN</td>\n",
       "      <td>11.35</td>\n",
       "      <td>5.649299</td>\n",
       "      <td>NaN</td>\n",
       "      <td>3.32</td>\n",
       "      <td>3.59</td>\n",
       "      <td>NaN</td>\n",
       "      <td>NaN</td>\n",
       "      <td>1.253154</td>\n",
       "    </tr>\n",
       "    <tr>\n",
       "      <th>2010-01-05</th>\n",
       "      <td>4.92</td>\n",
       "      <td>8.818263</td>\n",
       "      <td>0.830</td>\n",
       "      <td>25.00</td>\n",
       "      <td>1.856082</td>\n",
       "      <td>39.720</td>\n",
       "      <td>2.670</td>\n",
       "      <td>23.925</td>\n",
       "      <td>3.45</td>\n",
       "      <td>88.81</td>\n",
       "      <td>...</td>\n",
       "      <td>NaN</td>\n",
       "      <td>NaN</td>\n",
       "      <td>11.44</td>\n",
       "      <td>5.615061</td>\n",
       "      <td>NaN</td>\n",
       "      <td>3.32</td>\n",
       "      <td>3.60</td>\n",
       "      <td>NaN</td>\n",
       "      <td>NaN</td>\n",
       "      <td>1.305368</td>\n",
       "    </tr>\n",
       "    <tr>\n",
       "      <th>2010-01-06</th>\n",
       "      <td>4.78</td>\n",
       "      <td>8.985761</td>\n",
       "      <td>0.840</td>\n",
       "      <td>24.83</td>\n",
       "      <td>1.804082</td>\n",
       "      <td>39.400</td>\n",
       "      <td>2.810</td>\n",
       "      <td>24.900</td>\n",
       "      <td>3.90</td>\n",
       "      <td>89.50</td>\n",
       "      <td>...</td>\n",
       "      <td>NaN</td>\n",
       "      <td>NaN</td>\n",
       "      <td>11.49</td>\n",
       "      <td>5.759839</td>\n",
       "      <td>NaN</td>\n",
       "      <td>3.39</td>\n",
       "      <td>3.64</td>\n",
       "      <td>NaN</td>\n",
       "      <td>NaN</td>\n",
       "      <td>1.348881</td>\n",
       "    </tr>\n",
       "    <tr>\n",
       "      <th>2010-01-07</th>\n",
       "      <td>4.64</td>\n",
       "      <td>8.887233</td>\n",
       "      <td>0.820</td>\n",
       "      <td>25.00</td>\n",
       "      <td>1.847592</td>\n",
       "      <td>39.745</td>\n",
       "      <td>2.650</td>\n",
       "      <td>25.090</td>\n",
       "      <td>3.86</td>\n",
       "      <td>88.47</td>\n",
       "      <td>...</td>\n",
       "      <td>NaN</td>\n",
       "      <td>NaN</td>\n",
       "      <td>11.35</td>\n",
       "      <td>5.649299</td>\n",
       "      <td>NaN</td>\n",
       "      <td>3.40</td>\n",
       "      <td>3.64</td>\n",
       "      <td>NaN</td>\n",
       "      <td>NaN</td>\n",
       "      <td>1.314071</td>\n",
       "    </tr>\n",
       "    <tr>\n",
       "      <th>2010-01-08</th>\n",
       "      <td>4.57</td>\n",
       "      <td>8.966055</td>\n",
       "      <td>0.791</td>\n",
       "      <td>25.20</td>\n",
       "      <td>1.919755</td>\n",
       "      <td>39.600</td>\n",
       "      <td>2.720</td>\n",
       "      <td>24.915</td>\n",
       "      <td>3.76</td>\n",
       "      <td>87.99</td>\n",
       "      <td>...</td>\n",
       "      <td>NaN</td>\n",
       "      <td>NaN</td>\n",
       "      <td>11.50</td>\n",
       "      <td>5.820490</td>\n",
       "      <td>NaN</td>\n",
       "      <td>3.45</td>\n",
       "      <td>3.45</td>\n",
       "      <td>NaN</td>\n",
       "      <td>NaN</td>\n",
       "      <td>1.305368</td>\n",
       "    </tr>\n",
       "  </tbody>\n",
       "</table>\n",
       "<p>5 rows × 331 columns</p>\n",
       "</div>"
      ],
      "text/plain": [
       "            DE0005545503  DE0005118806  DE0005167902  DE000A1TNNN5  \\\n",
       "2010-01-04          4.96      9.122715         0.780         25.30   \n",
       "2010-01-05          4.92      8.818263         0.830         25.00   \n",
       "2010-01-06          4.78      8.985761         0.840         24.83   \n",
       "2010-01-07          4.64      8.887233         0.820         25.00   \n",
       "2010-01-08          4.57      8.966055         0.791         25.20   \n",
       "\n",
       "            DE000A0KFKB3  DE000A1EWWW0  DE0005103006  DE000A0WMPJ6  \\\n",
       "2010-01-04      1.846531        38.505         2.525        23.840   \n",
       "2010-01-05      1.856082        39.720         2.670        23.925   \n",
       "2010-01-06      1.804082        39.400         2.810        24.900   \n",
       "2010-01-07      1.847592        39.745         2.650        25.090   \n",
       "2010-01-08      1.919755        39.600         2.720        24.915   \n",
       "\n",
       "            DE0005110001  DE0008404005  ...  DE000A1MMEV4  DE000A161NR7  \\\n",
       "2010-01-04          3.45         88.54  ...           NaN           NaN   \n",
       "2010-01-05          3.45         88.81  ...           NaN           NaN   \n",
       "2010-01-06          3.90         89.50  ...           NaN           NaN   \n",
       "2010-01-07          3.86         88.47  ...           NaN           NaN   \n",
       "2010-01-08          3.76         87.99  ...           NaN           NaN   \n",
       "\n",
       "            DE000A0KEXC7  DE0005895403  DE000A2G8X31  DE000A0BVU28  \\\n",
       "2010-01-04         11.35      5.649299           NaN          3.32   \n",
       "2010-01-05         11.44      5.615061           NaN          3.32   \n",
       "2010-01-06         11.49      5.759839           NaN          3.39   \n",
       "2010-01-07         11.35      5.649299           NaN          3.40   \n",
       "2010-01-08         11.50      5.820490           NaN          3.45   \n",
       "\n",
       "            DE0007846867  DE000A2E4LE9  DE000A255G36  DE0005156004  \n",
       "2010-01-04          3.59           NaN           NaN      1.253154  \n",
       "2010-01-05          3.60           NaN           NaN      1.305368  \n",
       "2010-01-06          3.64           NaN           NaN      1.348881  \n",
       "2010-01-07          3.64           NaN           NaN      1.314071  \n",
       "2010-01-08          3.45           NaN           NaN      1.305368  \n",
       "\n",
       "[5 rows x 331 columns]"
      ]
     },
     "execution_count": 120,
     "metadata": {},
     "output_type": "execute_result"
    }
   ],
   "source": [
    "final_df.head()"
   ]
  },
  {
   "cell_type": "markdown",
   "metadata": {},
   "source": [
    "# Test Area"
   ]
  },
  {
   "cell_type": "code",
   "execution_count": 133,
   "metadata": {},
   "outputs": [
    {
     "name": "stderr",
     "output_type": "stream",
     "text": [
      "/tmp/ipykernel_1031/1163965101.py:2: RuntimeWarning: Mean of empty slice\n",
      "  np.nanmean(test)\n"
     ]
    },
    {
     "data": {
      "text/plain": [
       "nan"
      ]
     },
     "execution_count": 133,
     "metadata": {},
     "output_type": "execute_result"
    }
   ],
   "source": [
    "test = np.array([np.NaN, np.NaN, np.NaN])\n",
    "np.nanmean(test)"
   ]
  }
 ],
 "metadata": {
  "kernelspec": {
   "display_name": "Python 3",
   "language": "python",
   "name": "python3"
  },
  "language_info": {
   "codemirror_mode": {
    "name": "ipython",
    "version": 3
   },
   "file_extension": ".py",
   "mimetype": "text/x-python",
   "name": "python",
   "nbconvert_exporter": "python",
   "pygments_lexer": "ipython3",
   "version": "3.11.5"
  }
 },
 "nbformat": 4,
 "nbformat_minor": 2
}
